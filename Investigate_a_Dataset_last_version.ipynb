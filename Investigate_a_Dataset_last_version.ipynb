{
 "cells": [
  {
   "cell_type": "markdown",
   "metadata": {},
   "source": [
    "\n",
    "# Project: What can predict No-show \n",
    "\n",
    "## Table of Contents\n",
    "<ul>\n",
    "<li><a href=\"#intro\">Introduction</a></li>\n",
    "<li><a href=\"#wrangling\">Data Wrangling</a></li>\n",
    "<li><a href=\"#eda\">Exploratory Data Analysis</a></li>\n",
    "<li><a href=\"#conclusions\">Conclusions</a></li>\n",
    "</ul>"
   ]
  },
  {
   "cell_type": "markdown",
   "metadata": {},
   "source": [
    "<a id='intro'></a>\n",
    "## Introduction: data importation et exploration\n",
    "\n",
    "> I would like to analyze the data from 100K medical appointments. This data is provided on Kaggle. The reason why patients did not show up attracts our attention here. \n",
    "Throughout this project, we are trying to predict the percentage of patients who didn't show by exploring the data and also the connections between variables Schedule Day/Appointment Day, SMS-received, Scholarship (financial aid to low-income families), hypertension and Age. This project has been inspired by the Udacity training \"Data Analyst\"."
   ]
  },
  {
   "cell_type": "markdown",
   "metadata": {},
   "source": [
    "### Questions\n",
    "\n",
    "1) Can the number of days between scheduling and appointment predict No Show?\n",
    "\n",
    "2) Can Appointment Month be associated with No-Show?\n",
    "\n",
    "3) Can Appointment Day of Week impact be associated with No-Show?\n",
    "\n",
    "4) Can SMS-received predict No-show?\n",
    "\n",
    "5) Is long waiting, SMS received, and No-Show interrelated?\n",
    "\n",
    "6) Can Scholarship predict No-show?\n",
    "\n",
    "7) Can Hypertension predict No-show?\n",
    "\n",
    "8) Can Gender be associated with NoShow?\n",
    "\n",
    "9) Can Age predict No-show?"
   ]
  },
  {
   "cell_type": "code",
   "execution_count": 1,
   "metadata": {},
   "outputs": [],
   "source": [
    "# Use this cell to set up import statements for all of the packages that you\n",
    "#   plan to use.\n",
    "import pandas as pd\n",
    "import matplotlib.pyplot as plt\n",
    "import numpy as np\n",
    "import datetime\n",
    "import pandas_profiling\n",
    "import statsmodels.api as sm\n",
    "%matplotlib inline"
   ]
  },
  {
   "cell_type": "markdown",
   "metadata": {},
   "source": [
    "\n",
    "<a id='wrangling'></a>\n",
    "## Data Wrangling\n",
    "\n",
    "\n",
    "\n",
    "### General Properties"
   ]
  },
  {
   "cell_type": "markdown",
   "metadata": {},
   "source": [
    "#### Description of the variables\n",
    "PatientId and AppointmentID serve only to identify the people and the appointment and are not predictor variables.\n",
    "Gender might be useful to predict No-Show (people who didn't show up at the appointments).\n",
    "ScheduleDay and AppointmentDay are the dates when the patient took the appointment and when the appointment happened or should have happened.\n",
    "The Neighbourhood variable seems to be where the people lived, but it isn't really sure so I decided not to use this variable.\n",
    "As mentioned, Scholarship is whether the family was receiving money due to their poverty.\n",
    "We've got several problems like Diabetes,  Alcoholism, Handcap.\n",
    "SMS-received is whether the family had received a SMS prior to the appointment.\n"
   ]
  },
  {
   "cell_type": "code",
   "execution_count": 2,
   "metadata": {},
   "outputs": [
    {
     "data": {
      "text/html": [
       "<div>\n",
       "<style scoped>\n",
       "    .dataframe tbody tr th:only-of-type {\n",
       "        vertical-align: middle;\n",
       "    }\n",
       "\n",
       "    .dataframe tbody tr th {\n",
       "        vertical-align: top;\n",
       "    }\n",
       "\n",
       "    .dataframe thead th {\n",
       "        text-align: right;\n",
       "    }\n",
       "</style>\n",
       "<table border=\"1\" class=\"dataframe\">\n",
       "  <thead>\n",
       "    <tr style=\"text-align: right;\">\n",
       "      <th></th>\n",
       "      <th>PatientId</th>\n",
       "      <th>AppointmentID</th>\n",
       "      <th>Gender</th>\n",
       "      <th>ScheduledDay</th>\n",
       "      <th>AppointmentDay</th>\n",
       "      <th>Age</th>\n",
       "      <th>Neighbourhood</th>\n",
       "      <th>Scholarship</th>\n",
       "      <th>Hipertension</th>\n",
       "      <th>Diabetes</th>\n",
       "      <th>Alcoholism</th>\n",
       "      <th>Handcap</th>\n",
       "      <th>SMS_received</th>\n",
       "      <th>No-show</th>\n",
       "    </tr>\n",
       "  </thead>\n",
       "  <tbody>\n",
       "    <tr>\n",
       "      <th>0</th>\n",
       "      <td>2.987250e+13</td>\n",
       "      <td>5642903</td>\n",
       "      <td>F</td>\n",
       "      <td>2016-04-29T18:38:08Z</td>\n",
       "      <td>2016-04-29T00:00:00Z</td>\n",
       "      <td>62</td>\n",
       "      <td>JARDIM DA PENHA</td>\n",
       "      <td>0</td>\n",
       "      <td>1</td>\n",
       "      <td>0</td>\n",
       "      <td>0</td>\n",
       "      <td>0</td>\n",
       "      <td>0</td>\n",
       "      <td>No</td>\n",
       "    </tr>\n",
       "    <tr>\n",
       "      <th>1</th>\n",
       "      <td>5.589978e+14</td>\n",
       "      <td>5642503</td>\n",
       "      <td>M</td>\n",
       "      <td>2016-04-29T16:08:27Z</td>\n",
       "      <td>2016-04-29T00:00:00Z</td>\n",
       "      <td>56</td>\n",
       "      <td>JARDIM DA PENHA</td>\n",
       "      <td>0</td>\n",
       "      <td>0</td>\n",
       "      <td>0</td>\n",
       "      <td>0</td>\n",
       "      <td>0</td>\n",
       "      <td>0</td>\n",
       "      <td>No</td>\n",
       "    </tr>\n",
       "    <tr>\n",
       "      <th>2</th>\n",
       "      <td>4.262962e+12</td>\n",
       "      <td>5642549</td>\n",
       "      <td>F</td>\n",
       "      <td>2016-04-29T16:19:04Z</td>\n",
       "      <td>2016-04-29T00:00:00Z</td>\n",
       "      <td>62</td>\n",
       "      <td>MATA DA PRAIA</td>\n",
       "      <td>0</td>\n",
       "      <td>0</td>\n",
       "      <td>0</td>\n",
       "      <td>0</td>\n",
       "      <td>0</td>\n",
       "      <td>0</td>\n",
       "      <td>No</td>\n",
       "    </tr>\n",
       "    <tr>\n",
       "      <th>3</th>\n",
       "      <td>8.679512e+11</td>\n",
       "      <td>5642828</td>\n",
       "      <td>F</td>\n",
       "      <td>2016-04-29T17:29:31Z</td>\n",
       "      <td>2016-04-29T00:00:00Z</td>\n",
       "      <td>8</td>\n",
       "      <td>PONTAL DE CAMBURI</td>\n",
       "      <td>0</td>\n",
       "      <td>0</td>\n",
       "      <td>0</td>\n",
       "      <td>0</td>\n",
       "      <td>0</td>\n",
       "      <td>0</td>\n",
       "      <td>No</td>\n",
       "    </tr>\n",
       "    <tr>\n",
       "      <th>4</th>\n",
       "      <td>8.841186e+12</td>\n",
       "      <td>5642494</td>\n",
       "      <td>F</td>\n",
       "      <td>2016-04-29T16:07:23Z</td>\n",
       "      <td>2016-04-29T00:00:00Z</td>\n",
       "      <td>56</td>\n",
       "      <td>JARDIM DA PENHA</td>\n",
       "      <td>0</td>\n",
       "      <td>1</td>\n",
       "      <td>1</td>\n",
       "      <td>0</td>\n",
       "      <td>0</td>\n",
       "      <td>0</td>\n",
       "      <td>No</td>\n",
       "    </tr>\n",
       "  </tbody>\n",
       "</table>\n",
       "</div>"
      ],
      "text/plain": [
       "      PatientId  AppointmentID Gender          ScheduledDay  \\\n",
       "0  2.987250e+13        5642903      F  2016-04-29T18:38:08Z   \n",
       "1  5.589978e+14        5642503      M  2016-04-29T16:08:27Z   \n",
       "2  4.262962e+12        5642549      F  2016-04-29T16:19:04Z   \n",
       "3  8.679512e+11        5642828      F  2016-04-29T17:29:31Z   \n",
       "4  8.841186e+12        5642494      F  2016-04-29T16:07:23Z   \n",
       "\n",
       "         AppointmentDay  Age      Neighbourhood  Scholarship  Hipertension  \\\n",
       "0  2016-04-29T00:00:00Z   62    JARDIM DA PENHA            0             1   \n",
       "1  2016-04-29T00:00:00Z   56    JARDIM DA PENHA            0             0   \n",
       "2  2016-04-29T00:00:00Z   62      MATA DA PRAIA            0             0   \n",
       "3  2016-04-29T00:00:00Z    8  PONTAL DE CAMBURI            0             0   \n",
       "4  2016-04-29T00:00:00Z   56    JARDIM DA PENHA            0             1   \n",
       "\n",
       "   Diabetes  Alcoholism  Handcap  SMS_received No-show  \n",
       "0         0           0        0             0      No  \n",
       "1         0           0        0             0      No  \n",
       "2         0           0        0             0      No  \n",
       "3         0           0        0             0      No  \n",
       "4         1           0        0             0      No  "
      ]
     },
     "execution_count": 2,
     "metadata": {},
     "output_type": "execute_result"
    }
   ],
   "source": [
    "# Load your data and print out a few lines. Perform operations to inspect data\n",
    "data=pd.read_csv('https://d17h27t6h515a5.cloudfront.net/topher/2017/October/59dd2e9a_noshowappointments-kagglev2-may-2016/noshowappointments-kagglev2-may-2016.csv')\n",
    "data.head(5)\n",
    "\n",
    "\n"
   ]
  },
  {
   "cell_type": "markdown",
   "metadata": {},
   "source": [
    "There are a lot of Neighbourhood. And maybe I could make a map filled by neighborhood with No-Show mean in the future. With documentation, it might be interesting to study this variable."
   ]
  },
  {
   "cell_type": "code",
   "execution_count": 3,
   "metadata": {},
   "outputs": [
    {
     "data": {
      "text/plain": [
       "JARDIM CAMBURI                 7717\n",
       "MARIA ORTIZ                    5805\n",
       "RESISTÊNCIA                    4431\n",
       "JARDIM DA PENHA                3877\n",
       "ITARARÉ                        3514\n",
       "                               ... \n",
       "ILHA DO BOI                      35\n",
       "ILHA DO FRADE                    10\n",
       "AEROPORTO                         8\n",
       "ILHAS OCEÂNICAS DE TRINDADE       2\n",
       "PARQUE INDUSTRIAL                 1\n",
       "Name: Neighbourhood, Length: 81, dtype: int64"
      ]
     },
     "execution_count": 3,
     "metadata": {},
     "output_type": "execute_result"
    }
   ],
   "source": [
    "data['Neighbourhood'].value_counts()"
   ]
  },
  {
   "cell_type": "code",
   "execution_count": 4,
   "metadata": {},
   "outputs": [
    {
     "ename": "IndentationError",
     "evalue": "unexpected indent (<ipython-input-4-5a980f24cef3>, line 2)",
     "output_type": "error",
     "traceback": [
      "\u001b[1;36m  File \u001b[1;32m\"<ipython-input-4-5a980f24cef3>\"\u001b[1;36m, line \u001b[1;32m2\u001b[0m\n\u001b[1;33m    'Alchoholism', 'Scholarship'\u001b[0m\n\u001b[1;37m    ^\u001b[0m\n\u001b[1;31mIndentationError\u001b[0m\u001b[1;31m:\u001b[0m unexpected indent\n"
     ]
    }
   ],
   "source": [
    "'Age', 'Diabetes','Hypertension', 'Tuberculosis', 'Smokes',\n",
    "                         'Alchoholism', 'Scholarship'"
   ]
  },
  {
   "cell_type": "markdown",
   "metadata": {},
   "source": [
    "### No null-data\n",
    "There are 110'527 observations. Luckily no data seems to be missing."
   ]
  },
  {
   "cell_type": "code",
   "execution_count": 5,
   "metadata": {},
   "outputs": [
    {
     "data": {
      "text/plain": [
       "(110527, 14)"
      ]
     },
     "execution_count": 5,
     "metadata": {},
     "output_type": "execute_result"
    }
   ],
   "source": [
    "#   types and look for instances of missing or possibly errant data.\n",
    "data.shape"
   ]
  },
  {
   "cell_type": "markdown",
   "metadata": {},
   "source": [
    "In the table below, we can see that no data is missing"
   ]
  },
  {
   "cell_type": "code",
   "execution_count": 6,
   "metadata": {
    "scrolled": true
   },
   "outputs": [
    {
     "data": {
      "text/plain": [
       "PatientId         0\n",
       "AppointmentID     0\n",
       "Gender            0\n",
       "ScheduledDay      0\n",
       "AppointmentDay    0\n",
       "Age               0\n",
       "Neighbourhood     0\n",
       "Scholarship       0\n",
       "Hipertension      0\n",
       "Diabetes          0\n",
       "Alcoholism        0\n",
       "Handcap           0\n",
       "SMS_received      0\n",
       "No-show           0\n",
       "dtype: int64"
      ]
     },
     "execution_count": 6,
     "metadata": {},
     "output_type": "execute_result"
    }
   ],
   "source": [
    "data.isnull().sum()"
   ]
  },
  {
   "cell_type": "markdown",
   "metadata": {},
   "source": [
    "The table below interprets the same fact, but it adds the data types. One potential problem might be that the variables \"ScheduledDay\" and \"AppointmentDay\" are in string. I would like to get AppointmentDay in datatype to test the month and the day of the week. Also I would like to get the difference between ScheduleDay and AppointmentDay. Luckily other variables like \"Hypertension\", \"Diabetes\" and \"SMS-received\" are all on int types, so no data transformation is needed for these variables."
   ]
  },
  {
   "cell_type": "code",
   "execution_count": 7,
   "metadata": {
    "scrolled": false
   },
   "outputs": [
    {
     "name": "stdout",
     "output_type": "stream",
     "text": [
      "<class 'pandas.core.frame.DataFrame'>\n",
      "RangeIndex: 110527 entries, 0 to 110526\n",
      "Data columns (total 14 columns):\n",
      "PatientId         110527 non-null float64\n",
      "AppointmentID     110527 non-null int64\n",
      "Gender            110527 non-null object\n",
      "ScheduledDay      110527 non-null object\n",
      "AppointmentDay    110527 non-null object\n",
      "Age               110527 non-null int64\n",
      "Neighbourhood     110527 non-null object\n",
      "Scholarship       110527 non-null int64\n",
      "Hipertension      110527 non-null int64\n",
      "Diabetes          110527 non-null int64\n",
      "Alcoholism        110527 non-null int64\n",
      "Handcap           110527 non-null int64\n",
      "SMS_received      110527 non-null int64\n",
      "No-show           110527 non-null object\n",
      "dtypes: float64(1), int64(8), object(5)\n",
      "memory usage: 11.8+ MB\n"
     ]
    }
   ],
   "source": [
    "data.info()"
   ]
  },
  {
   "cell_type": "markdown",
   "metadata": {},
   "source": [
    "### Distribution of the variables\n",
    "Age seems skewed to the right. There isn't a lot of difference in the variables \"Diabetes\", \"Alcoholism\" or \"Handcap\". Other variables like \"SMS_received\", \"Scholarship\" and \"Hipertension\" are easier to compare."
   ]
  },
  {
   "cell_type": "code",
   "execution_count": 8,
   "metadata": {},
   "outputs": [
    {
     "data": {
      "text/html": [
       "<div>\n",
       "<style scoped>\n",
       "    .dataframe tbody tr th:only-of-type {\n",
       "        vertical-align: middle;\n",
       "    }\n",
       "\n",
       "    .dataframe tbody tr th {\n",
       "        vertical-align: top;\n",
       "    }\n",
       "\n",
       "    .dataframe thead th {\n",
       "        text-align: right;\n",
       "    }\n",
       "</style>\n",
       "<table border=\"1\" class=\"dataframe\">\n",
       "  <thead>\n",
       "    <tr style=\"text-align: right;\">\n",
       "      <th></th>\n",
       "      <th>PatientId</th>\n",
       "      <th>AppointmentID</th>\n",
       "      <th>Age</th>\n",
       "      <th>Scholarship</th>\n",
       "      <th>Hipertension</th>\n",
       "      <th>Diabetes</th>\n",
       "      <th>Alcoholism</th>\n",
       "      <th>Handcap</th>\n",
       "      <th>SMS_received</th>\n",
       "    </tr>\n",
       "  </thead>\n",
       "  <tbody>\n",
       "    <tr>\n",
       "      <th>count</th>\n",
       "      <td>1.105270e+05</td>\n",
       "      <td>1.105270e+05</td>\n",
       "      <td>110527.000000</td>\n",
       "      <td>110527.000000</td>\n",
       "      <td>110527.000000</td>\n",
       "      <td>110527.000000</td>\n",
       "      <td>110527.000000</td>\n",
       "      <td>110527.000000</td>\n",
       "      <td>110527.000000</td>\n",
       "    </tr>\n",
       "    <tr>\n",
       "      <th>mean</th>\n",
       "      <td>1.474963e+14</td>\n",
       "      <td>5.675305e+06</td>\n",
       "      <td>37.088874</td>\n",
       "      <td>0.098266</td>\n",
       "      <td>0.197246</td>\n",
       "      <td>0.071865</td>\n",
       "      <td>0.030400</td>\n",
       "      <td>0.022248</td>\n",
       "      <td>0.321026</td>\n",
       "    </tr>\n",
       "    <tr>\n",
       "      <th>std</th>\n",
       "      <td>2.560949e+14</td>\n",
       "      <td>7.129575e+04</td>\n",
       "      <td>23.110205</td>\n",
       "      <td>0.297675</td>\n",
       "      <td>0.397921</td>\n",
       "      <td>0.258265</td>\n",
       "      <td>0.171686</td>\n",
       "      <td>0.161543</td>\n",
       "      <td>0.466873</td>\n",
       "    </tr>\n",
       "    <tr>\n",
       "      <th>min</th>\n",
       "      <td>3.921784e+04</td>\n",
       "      <td>5.030230e+06</td>\n",
       "      <td>-1.000000</td>\n",
       "      <td>0.000000</td>\n",
       "      <td>0.000000</td>\n",
       "      <td>0.000000</td>\n",
       "      <td>0.000000</td>\n",
       "      <td>0.000000</td>\n",
       "      <td>0.000000</td>\n",
       "    </tr>\n",
       "    <tr>\n",
       "      <th>25%</th>\n",
       "      <td>4.172614e+12</td>\n",
       "      <td>5.640286e+06</td>\n",
       "      <td>18.000000</td>\n",
       "      <td>0.000000</td>\n",
       "      <td>0.000000</td>\n",
       "      <td>0.000000</td>\n",
       "      <td>0.000000</td>\n",
       "      <td>0.000000</td>\n",
       "      <td>0.000000</td>\n",
       "    </tr>\n",
       "    <tr>\n",
       "      <th>50%</th>\n",
       "      <td>3.173184e+13</td>\n",
       "      <td>5.680573e+06</td>\n",
       "      <td>37.000000</td>\n",
       "      <td>0.000000</td>\n",
       "      <td>0.000000</td>\n",
       "      <td>0.000000</td>\n",
       "      <td>0.000000</td>\n",
       "      <td>0.000000</td>\n",
       "      <td>0.000000</td>\n",
       "    </tr>\n",
       "    <tr>\n",
       "      <th>75%</th>\n",
       "      <td>9.439172e+13</td>\n",
       "      <td>5.725524e+06</td>\n",
       "      <td>55.000000</td>\n",
       "      <td>0.000000</td>\n",
       "      <td>0.000000</td>\n",
       "      <td>0.000000</td>\n",
       "      <td>0.000000</td>\n",
       "      <td>0.000000</td>\n",
       "      <td>1.000000</td>\n",
       "    </tr>\n",
       "    <tr>\n",
       "      <th>max</th>\n",
       "      <td>9.999816e+14</td>\n",
       "      <td>5.790484e+06</td>\n",
       "      <td>115.000000</td>\n",
       "      <td>1.000000</td>\n",
       "      <td>1.000000</td>\n",
       "      <td>1.000000</td>\n",
       "      <td>1.000000</td>\n",
       "      <td>4.000000</td>\n",
       "      <td>1.000000</td>\n",
       "    </tr>\n",
       "  </tbody>\n",
       "</table>\n",
       "</div>"
      ],
      "text/plain": [
       "          PatientId  AppointmentID            Age    Scholarship  \\\n",
       "count  1.105270e+05   1.105270e+05  110527.000000  110527.000000   \n",
       "mean   1.474963e+14   5.675305e+06      37.088874       0.098266   \n",
       "std    2.560949e+14   7.129575e+04      23.110205       0.297675   \n",
       "min    3.921784e+04   5.030230e+06      -1.000000       0.000000   \n",
       "25%    4.172614e+12   5.640286e+06      18.000000       0.000000   \n",
       "50%    3.173184e+13   5.680573e+06      37.000000       0.000000   \n",
       "75%    9.439172e+13   5.725524e+06      55.000000       0.000000   \n",
       "max    9.999816e+14   5.790484e+06     115.000000       1.000000   \n",
       "\n",
       "        Hipertension       Diabetes     Alcoholism        Handcap  \\\n",
       "count  110527.000000  110527.000000  110527.000000  110527.000000   \n",
       "mean        0.197246       0.071865       0.030400       0.022248   \n",
       "std         0.397921       0.258265       0.171686       0.161543   \n",
       "min         0.000000       0.000000       0.000000       0.000000   \n",
       "25%         0.000000       0.000000       0.000000       0.000000   \n",
       "50%         0.000000       0.000000       0.000000       0.000000   \n",
       "75%         0.000000       0.000000       0.000000       0.000000   \n",
       "max         1.000000       1.000000       1.000000       4.000000   \n",
       "\n",
       "        SMS_received  \n",
       "count  110527.000000  \n",
       "mean        0.321026  \n",
       "std         0.466873  \n",
       "min         0.000000  \n",
       "25%         0.000000  \n",
       "50%         0.000000  \n",
       "75%         1.000000  \n",
       "max         1.000000  "
      ]
     },
     "execution_count": 8,
     "metadata": {},
     "output_type": "execute_result"
    }
   ],
   "source": [
    "data.describe()"
   ]
  },
  {
   "cell_type": "markdown",
   "metadata": {},
   "source": [
    "Age seems skewed to the right. There isn't a lot of difference in the variables \"Alcoholism\", or \"Handcap\". It's also the case for \"Diabetes\", but I would like to test the chronic diseases. Other variables like \"SMS_received\", \"Scholarship\" and \"Hipertension\" are easier to compare."
   ]
  },
  {
   "cell_type": "code",
   "execution_count": 9,
   "metadata": {},
   "outputs": [
    {
     "data": {
      "text/plain": [
       "array([[<matplotlib.axes._subplots.AxesSubplot object at 0x0000025D1D313DC8>,\n",
       "        <matplotlib.axes._subplots.AxesSubplot object at 0x0000025D1D376D08>,\n",
       "        <matplotlib.axes._subplots.AxesSubplot object at 0x0000025D1D3B6188>],\n",
       "       [<matplotlib.axes._subplots.AxesSubplot object at 0x0000025D1D3EC5C8>,\n",
       "        <matplotlib.axes._subplots.AxesSubplot object at 0x0000025D1D422A88>,\n",
       "        <matplotlib.axes._subplots.AxesSubplot object at 0x0000025D1D45C148>],\n",
       "       [<matplotlib.axes._subplots.AxesSubplot object at 0x0000025D1D491D48>,\n",
       "        <matplotlib.axes._subplots.AxesSubplot object at 0x0000025D1D4C8948>,\n",
       "        <matplotlib.axes._subplots.AxesSubplot object at 0x0000025D1D4B97C8>]],\n",
       "      dtype=object)"
      ]
     },
     "execution_count": 9,
     "metadata": {},
     "output_type": "execute_result"
    },
    {
     "data": {
      "image/png": "[encoded data removed]",
      "text/plain": [
       "<Figure size 720x576 with 9 Axes>"
      ]
     },
     "metadata": {
      "needs_background": "light"
     },
     "output_type": "display_data"
    }
   ],
   "source": [
    "data.hist(figsize=(10,8))"
   ]
  },
  {
   "cell_type": "markdown",
   "metadata": {},
   "source": [
    "### Data drop\n",
    "As we won't use these variables. I decided to remove Appointment and Patient ID, Gender, Handicap, Neighbourhood, Diabetes, and Alcoholism from the dataset.\n",
    "As discussed, there are some problems to interpret this data, and the variables I used were more easy to interpret."
   ]
  },
  {
   "cell_type": "code",
   "execution_count": 10,
   "metadata": {},
   "outputs": [
    {
     "data": {
      "text/html": [
       "<div>\n",
       "<style scoped>\n",
       "    .dataframe tbody tr th:only-of-type {\n",
       "        vertical-align: middle;\n",
       "    }\n",
       "\n",
       "    .dataframe tbody tr th {\n",
       "        vertical-align: top;\n",
       "    }\n",
       "\n",
       "    .dataframe thead th {\n",
       "        text-align: right;\n",
       "    }\n",
       "</style>\n",
       "<table border=\"1\" class=\"dataframe\">\n",
       "  <thead>\n",
       "    <tr style=\"text-align: right;\">\n",
       "      <th></th>\n",
       "      <th>Gender</th>\n",
       "      <th>ScheduledDay</th>\n",
       "      <th>AppointmentDay</th>\n",
       "      <th>Age</th>\n",
       "      <th>Scholarship</th>\n",
       "      <th>Hipertension</th>\n",
       "      <th>Diabetes</th>\n",
       "      <th>SMS_received</th>\n",
       "      <th>No-show</th>\n",
       "    </tr>\n",
       "  </thead>\n",
       "  <tbody>\n",
       "    <tr>\n",
       "      <th>0</th>\n",
       "      <td>F</td>\n",
       "      <td>2016-04-29T18:38:08Z</td>\n",
       "      <td>2016-04-29T00:00:00Z</td>\n",
       "      <td>62</td>\n",
       "      <td>0</td>\n",
       "      <td>1</td>\n",
       "      <td>0</td>\n",
       "      <td>0</td>\n",
       "      <td>No</td>\n",
       "    </tr>\n",
       "    <tr>\n",
       "      <th>1</th>\n",
       "      <td>M</td>\n",
       "      <td>2016-04-29T16:08:27Z</td>\n",
       "      <td>2016-04-29T00:00:00Z</td>\n",
       "      <td>56</td>\n",
       "      <td>0</td>\n",
       "      <td>0</td>\n",
       "      <td>0</td>\n",
       "      <td>0</td>\n",
       "      <td>No</td>\n",
       "    </tr>\n",
       "    <tr>\n",
       "      <th>2</th>\n",
       "      <td>F</td>\n",
       "      <td>2016-04-29T16:19:04Z</td>\n",
       "      <td>2016-04-29T00:00:00Z</td>\n",
       "      <td>62</td>\n",
       "      <td>0</td>\n",
       "      <td>0</td>\n",
       "      <td>0</td>\n",
       "      <td>0</td>\n",
       "      <td>No</td>\n",
       "    </tr>\n",
       "    <tr>\n",
       "      <th>3</th>\n",
       "      <td>F</td>\n",
       "      <td>2016-04-29T17:29:31Z</td>\n",
       "      <td>2016-04-29T00:00:00Z</td>\n",
       "      <td>8</td>\n",
       "      <td>0</td>\n",
       "      <td>0</td>\n",
       "      <td>0</td>\n",
       "      <td>0</td>\n",
       "      <td>No</td>\n",
       "    </tr>\n",
       "    <tr>\n",
       "      <th>4</th>\n",
       "      <td>F</td>\n",
       "      <td>2016-04-29T16:07:23Z</td>\n",
       "      <td>2016-04-29T00:00:00Z</td>\n",
       "      <td>56</td>\n",
       "      <td>0</td>\n",
       "      <td>1</td>\n",
       "      <td>1</td>\n",
       "      <td>0</td>\n",
       "      <td>No</td>\n",
       "    </tr>\n",
       "  </tbody>\n",
       "</table>\n",
       "</div>"
      ],
      "text/plain": [
       "  Gender          ScheduledDay        AppointmentDay  Age  Scholarship  \\\n",
       "0      F  2016-04-29T18:38:08Z  2016-04-29T00:00:00Z   62            0   \n",
       "1      M  2016-04-29T16:08:27Z  2016-04-29T00:00:00Z   56            0   \n",
       "2      F  2016-04-29T16:19:04Z  2016-04-29T00:00:00Z   62            0   \n",
       "3      F  2016-04-29T17:29:31Z  2016-04-29T00:00:00Z    8            0   \n",
       "4      F  2016-04-29T16:07:23Z  2016-04-29T00:00:00Z   56            0   \n",
       "\n",
       "   Hipertension  Diabetes  SMS_received No-show  \n",
       "0             1         0             0      No  \n",
       "1             0         0             0      No  \n",
       "2             0         0             0      No  \n",
       "3             0         0             0      No  \n",
       "4             1         1             0      No  "
      ]
     },
     "execution_count": 10,
     "metadata": {},
     "output_type": "execute_result"
    }
   ],
   "source": [
    "data.drop(['PatientId','AppointmentID','Handcap','Neighbourhood','Alcoholism'],axis=1,inplace=True)\n",
    "data.head()"
   ]
  },
  {
   "cell_type": "markdown",
   "metadata": {},
   "source": [
    "### Three needs for the data analysis\n",
    "\n",
    "\n",
    "1) It should be a description of days between Schedule Day and Appointment Day to see if waiting could be a predictor. To test that, I have to transform these two variables into DateTime, make the difference between both of them, and get this difference into the number of days as an int. \n",
    "\n",
    "2) No-show should only contain the boolean values True and False. And there should be a variable to count the Patients who showed up and the Patients who didn't show up. \n",
    "\n",
    "3) I wanted to know if Appointment Hours are different, so I could know if I had to do another test."
   ]
  },
  {
   "cell_type": "code",
   "execution_count": 11,
   "metadata": {},
   "outputs": [
    {
     "data": {
      "text/plain": [
       "Gender            object\n",
       "ScheduledDay      object\n",
       "AppointmentDay    object\n",
       "Age                int64\n",
       "Scholarship        int64\n",
       "Hipertension       int64\n",
       "Diabetes           int64\n",
       "SMS_received       int64\n",
       "No-show           object\n",
       "dtype: object"
      ]
     },
     "execution_count": 11,
     "metadata": {},
     "output_type": "execute_result"
    }
   ],
   "source": [
    "# After discussing the structure of the data and any problems that need to be\n",
    "#   cleaned, perform those cleaning steps in the second part of this section.\n",
    "data.dtypes"
   ]
  },
  {
   "cell_type": "markdown",
   "metadata": {},
   "source": [
    "#### No-show variable into boolean\n",
    "First, I replace the values \"Yes\" and \"No\" by \"True\" and \"False\". As variable names usually don't have a Hyphen, and this could make comparisons more complicated, I renamed this column. After that, I observed that the values of \"No-show\" had changed, and this column has become \"NoShow\".\n",
    "My next program assured that the variable was Boolean, and it is.\n",
    "My next program was to create two variables: one for patients who showed up and one for patients who didn't show up. Then I tested a simple mean operation to see if this variable did work."
   ]
  },
  {
   "cell_type": "code",
   "execution_count": 12,
   "metadata": {},
   "outputs": [
    {
     "data": {
      "text/html": [
       "<div>\n",
       "<style scoped>\n",
       "    .dataframe tbody tr th:only-of-type {\n",
       "        vertical-align: middle;\n",
       "    }\n",
       "\n",
       "    .dataframe tbody tr th {\n",
       "        vertical-align: top;\n",
       "    }\n",
       "\n",
       "    .dataframe thead th {\n",
       "        text-align: right;\n",
       "    }\n",
       "</style>\n",
       "<table border=\"1\" class=\"dataframe\">\n",
       "  <thead>\n",
       "    <tr style=\"text-align: right;\">\n",
       "      <th></th>\n",
       "      <th>Gender</th>\n",
       "      <th>ScheduledDay</th>\n",
       "      <th>AppointmentDay</th>\n",
       "      <th>Age</th>\n",
       "      <th>Scholarship</th>\n",
       "      <th>Hipertension</th>\n",
       "      <th>Diabetes</th>\n",
       "      <th>SMS_received</th>\n",
       "      <th>NoShow</th>\n",
       "    </tr>\n",
       "  </thead>\n",
       "  <tbody>\n",
       "    <tr>\n",
       "      <th>6</th>\n",
       "      <td>F</td>\n",
       "      <td>2016-04-27T15:05:12Z</td>\n",
       "      <td>2016-04-29T00:00:00Z</td>\n",
       "      <td>23</td>\n",
       "      <td>0</td>\n",
       "      <td>0</td>\n",
       "      <td>0</td>\n",
       "      <td>0</td>\n",
       "      <td>True</td>\n",
       "    </tr>\n",
       "    <tr>\n",
       "      <th>7</th>\n",
       "      <td>F</td>\n",
       "      <td>2016-04-27T15:39:58Z</td>\n",
       "      <td>2016-04-29T00:00:00Z</td>\n",
       "      <td>39</td>\n",
       "      <td>0</td>\n",
       "      <td>0</td>\n",
       "      <td>0</td>\n",
       "      <td>0</td>\n",
       "      <td>True</td>\n",
       "    </tr>\n",
       "    <tr>\n",
       "      <th>11</th>\n",
       "      <td>M</td>\n",
       "      <td>2016-04-26T08:44:12Z</td>\n",
       "      <td>2016-04-29T00:00:00Z</td>\n",
       "      <td>29</td>\n",
       "      <td>0</td>\n",
       "      <td>0</td>\n",
       "      <td>0</td>\n",
       "      <td>1</td>\n",
       "      <td>True</td>\n",
       "    </tr>\n",
       "    <tr>\n",
       "      <th>17</th>\n",
       "      <td>F</td>\n",
       "      <td>2016-04-28T09:28:57Z</td>\n",
       "      <td>2016-04-29T00:00:00Z</td>\n",
       "      <td>40</td>\n",
       "      <td>1</td>\n",
       "      <td>0</td>\n",
       "      <td>0</td>\n",
       "      <td>0</td>\n",
       "      <td>True</td>\n",
       "    </tr>\n",
       "    <tr>\n",
       "      <th>20</th>\n",
       "      <td>F</td>\n",
       "      <td>2016-04-27T07:51:14Z</td>\n",
       "      <td>2016-04-29T00:00:00Z</td>\n",
       "      <td>30</td>\n",
       "      <td>0</td>\n",
       "      <td>0</td>\n",
       "      <td>0</td>\n",
       "      <td>0</td>\n",
       "      <td>True</td>\n",
       "    </tr>\n",
       "  </tbody>\n",
       "</table>\n",
       "</div>"
      ],
      "text/plain": [
       "   Gender          ScheduledDay        AppointmentDay  Age  Scholarship  \\\n",
       "6       F  2016-04-27T15:05:12Z  2016-04-29T00:00:00Z   23            0   \n",
       "7       F  2016-04-27T15:39:58Z  2016-04-29T00:00:00Z   39            0   \n",
       "11      M  2016-04-26T08:44:12Z  2016-04-29T00:00:00Z   29            0   \n",
       "17      F  2016-04-28T09:28:57Z  2016-04-29T00:00:00Z   40            1   \n",
       "20      F  2016-04-27T07:51:14Z  2016-04-29T00:00:00Z   30            0   \n",
       "\n",
       "    Hipertension  Diabetes  SMS_received  NoShow  \n",
       "6              0         0             0    True  \n",
       "7              0         0             0    True  \n",
       "11             0         0             1    True  \n",
       "17             0         0             0    True  \n",
       "20             0         0             0    True  "
      ]
     },
     "execution_count": 12,
     "metadata": {},
     "output_type": "execute_result"
    }
   ],
   "source": [
    "data['No-show'].replace({\"Yes\": True, \"No\": False},inplace=True)\n",
    "data.rename(columns={\"No-show\": \"NoShow\"},inplace=True)\n",
    "data[data['NoShow']==True].head()"
   ]
  },
  {
   "cell_type": "code",
   "execution_count": 13,
   "metadata": {},
   "outputs": [
    {
     "name": "stdout",
     "output_type": "stream",
     "text": [
      "<class 'pandas.core.frame.DataFrame'>\n",
      "RangeIndex: 110527 entries, 0 to 110526\n",
      "Data columns (total 9 columns):\n",
      "Gender            110527 non-null object\n",
      "ScheduledDay      110527 non-null object\n",
      "AppointmentDay    110527 non-null object\n",
      "Age               110527 non-null int64\n",
      "Scholarship       110527 non-null int64\n",
      "Hipertension      110527 non-null int64\n",
      "Diabetes          110527 non-null int64\n",
      "SMS_received      110527 non-null int64\n",
      "NoShow            110527 non-null bool\n",
      "dtypes: bool(1), int64(5), object(3)\n",
      "memory usage: 6.9+ MB\n"
     ]
    }
   ],
   "source": [
    "data.info()"
   ]
  },
  {
   "cell_type": "code",
   "execution_count": 14,
   "metadata": {},
   "outputs": [
    {
     "data": {
      "text/plain": [
       "20.193255946510806"
      ]
     },
     "execution_count": 14,
     "metadata": {},
     "output_type": "execute_result"
    }
   ],
   "source": [
    "didnt_show=data.NoShow==True\n",
    "did_show=data.NoShow==False\n",
    "data.NoShow.mean()*100"
   ]
  },
  {
   "cell_type": "code",
   "execution_count": 15,
   "metadata": {},
   "outputs": [
    {
     "data": {
      "text/plain": [
       "20.193255946510806"
      ]
     },
     "execution_count": 15,
     "metadata": {},
     "output_type": "execute_result"
    }
   ],
   "source": [
    "didnt_show.mean()*100"
   ]
  },
  {
   "cell_type": "markdown",
   "metadata": {},
   "source": [
    "#### Difference of days\n",
    "To get the difference between Schedule Day and Appointment Day, I first made two variables to get only the years, months, and days in these two variables (so I shorten in order not to have the hours, minutes, and seconds).\n",
    "Then I turn these variables into DateTime to get the difference between \"Schedule Day\" and \"Waiting Day\"."
   ]
  },
  {
   "cell_type": "code",
   "execution_count": 16,
   "metadata": {},
   "outputs": [],
   "source": [
    "data['Schedule']=data['ScheduledDay'].str[:10]\n",
    "data['Appointment']=data['AppointmentDay'].str[:10]"
   ]
  },
  {
   "cell_type": "code",
   "execution_count": 17,
   "metadata": {},
   "outputs": [
    {
     "data": {
      "text/html": [
       "<div>\n",
       "<style scoped>\n",
       "    .dataframe tbody tr th:only-of-type {\n",
       "        vertical-align: middle;\n",
       "    }\n",
       "\n",
       "    .dataframe tbody tr th {\n",
       "        vertical-align: top;\n",
       "    }\n",
       "\n",
       "    .dataframe thead th {\n",
       "        text-align: right;\n",
       "    }\n",
       "</style>\n",
       "<table border=\"1\" class=\"dataframe\">\n",
       "  <thead>\n",
       "    <tr style=\"text-align: right;\">\n",
       "      <th></th>\n",
       "      <th>Gender</th>\n",
       "      <th>ScheduledDay</th>\n",
       "      <th>AppointmentDay</th>\n",
       "      <th>Age</th>\n",
       "      <th>Scholarship</th>\n",
       "      <th>Hipertension</th>\n",
       "      <th>Diabetes</th>\n",
       "      <th>SMS_received</th>\n",
       "      <th>NoShow</th>\n",
       "      <th>Schedule</th>\n",
       "      <th>Appointment</th>\n",
       "      <th>Scheduled</th>\n",
       "      <th>AppointmentD</th>\n",
       "      <th>Waiting</th>\n",
       "    </tr>\n",
       "  </thead>\n",
       "  <tbody>\n",
       "    <tr>\n",
       "      <th>0</th>\n",
       "      <td>F</td>\n",
       "      <td>2016-04-29T18:38:08Z</td>\n",
       "      <td>2016-04-29T00:00:00Z</td>\n",
       "      <td>62</td>\n",
       "      <td>0</td>\n",
       "      <td>1</td>\n",
       "      <td>0</td>\n",
       "      <td>0</td>\n",
       "      <td>False</td>\n",
       "      <td>2016-04-29</td>\n",
       "      <td>2016-04-29</td>\n",
       "      <td>2016-04-29</td>\n",
       "      <td>2016-04-29</td>\n",
       "      <td>0 days</td>\n",
       "    </tr>\n",
       "    <tr>\n",
       "      <th>1</th>\n",
       "      <td>M</td>\n",
       "      <td>2016-04-29T16:08:27Z</td>\n",
       "      <td>2016-04-29T00:00:00Z</td>\n",
       "      <td>56</td>\n",
       "      <td>0</td>\n",
       "      <td>0</td>\n",
       "      <td>0</td>\n",
       "      <td>0</td>\n",
       "      <td>False</td>\n",
       "      <td>2016-04-29</td>\n",
       "      <td>2016-04-29</td>\n",
       "      <td>2016-04-29</td>\n",
       "      <td>2016-04-29</td>\n",
       "      <td>0 days</td>\n",
       "    </tr>\n",
       "    <tr>\n",
       "      <th>2</th>\n",
       "      <td>F</td>\n",
       "      <td>2016-04-29T16:19:04Z</td>\n",
       "      <td>2016-04-29T00:00:00Z</td>\n",
       "      <td>62</td>\n",
       "      <td>0</td>\n",
       "      <td>0</td>\n",
       "      <td>0</td>\n",
       "      <td>0</td>\n",
       "      <td>False</td>\n",
       "      <td>2016-04-29</td>\n",
       "      <td>2016-04-29</td>\n",
       "      <td>2016-04-29</td>\n",
       "      <td>2016-04-29</td>\n",
       "      <td>0 days</td>\n",
       "    </tr>\n",
       "    <tr>\n",
       "      <th>3</th>\n",
       "      <td>F</td>\n",
       "      <td>2016-04-29T17:29:31Z</td>\n",
       "      <td>2016-04-29T00:00:00Z</td>\n",
       "      <td>8</td>\n",
       "      <td>0</td>\n",
       "      <td>0</td>\n",
       "      <td>0</td>\n",
       "      <td>0</td>\n",
       "      <td>False</td>\n",
       "      <td>2016-04-29</td>\n",
       "      <td>2016-04-29</td>\n",
       "      <td>2016-04-29</td>\n",
       "      <td>2016-04-29</td>\n",
       "      <td>0 days</td>\n",
       "    </tr>\n",
       "    <tr>\n",
       "      <th>4</th>\n",
       "      <td>F</td>\n",
       "      <td>2016-04-29T16:07:23Z</td>\n",
       "      <td>2016-04-29T00:00:00Z</td>\n",
       "      <td>56</td>\n",
       "      <td>0</td>\n",
       "      <td>1</td>\n",
       "      <td>1</td>\n",
       "      <td>0</td>\n",
       "      <td>False</td>\n",
       "      <td>2016-04-29</td>\n",
       "      <td>2016-04-29</td>\n",
       "      <td>2016-04-29</td>\n",
       "      <td>2016-04-29</td>\n",
       "      <td>0 days</td>\n",
       "    </tr>\n",
       "    <tr>\n",
       "      <th>5</th>\n",
       "      <td>F</td>\n",
       "      <td>2016-04-27T08:36:51Z</td>\n",
       "      <td>2016-04-29T00:00:00Z</td>\n",
       "      <td>76</td>\n",
       "      <td>0</td>\n",
       "      <td>1</td>\n",
       "      <td>0</td>\n",
       "      <td>0</td>\n",
       "      <td>False</td>\n",
       "      <td>2016-04-27</td>\n",
       "      <td>2016-04-29</td>\n",
       "      <td>2016-04-27</td>\n",
       "      <td>2016-04-29</td>\n",
       "      <td>2 days</td>\n",
       "    </tr>\n",
       "    <tr>\n",
       "      <th>6</th>\n",
       "      <td>F</td>\n",
       "      <td>2016-04-27T15:05:12Z</td>\n",
       "      <td>2016-04-29T00:00:00Z</td>\n",
       "      <td>23</td>\n",
       "      <td>0</td>\n",
       "      <td>0</td>\n",
       "      <td>0</td>\n",
       "      <td>0</td>\n",
       "      <td>True</td>\n",
       "      <td>2016-04-27</td>\n",
       "      <td>2016-04-29</td>\n",
       "      <td>2016-04-27</td>\n",
       "      <td>2016-04-29</td>\n",
       "      <td>2 days</td>\n",
       "    </tr>\n",
       "    <tr>\n",
       "      <th>7</th>\n",
       "      <td>F</td>\n",
       "      <td>2016-04-27T15:39:58Z</td>\n",
       "      <td>2016-04-29T00:00:00Z</td>\n",
       "      <td>39</td>\n",
       "      <td>0</td>\n",
       "      <td>0</td>\n",
       "      <td>0</td>\n",
       "      <td>0</td>\n",
       "      <td>True</td>\n",
       "      <td>2016-04-27</td>\n",
       "      <td>2016-04-29</td>\n",
       "      <td>2016-04-27</td>\n",
       "      <td>2016-04-29</td>\n",
       "      <td>2 days</td>\n",
       "    </tr>\n",
       "    <tr>\n",
       "      <th>8</th>\n",
       "      <td>F</td>\n",
       "      <td>2016-04-29T08:02:16Z</td>\n",
       "      <td>2016-04-29T00:00:00Z</td>\n",
       "      <td>21</td>\n",
       "      <td>0</td>\n",
       "      <td>0</td>\n",
       "      <td>0</td>\n",
       "      <td>0</td>\n",
       "      <td>False</td>\n",
       "      <td>2016-04-29</td>\n",
       "      <td>2016-04-29</td>\n",
       "      <td>2016-04-29</td>\n",
       "      <td>2016-04-29</td>\n",
       "      <td>0 days</td>\n",
       "    </tr>\n",
       "    <tr>\n",
       "      <th>9</th>\n",
       "      <td>F</td>\n",
       "      <td>2016-04-27T12:48:25Z</td>\n",
       "      <td>2016-04-29T00:00:00Z</td>\n",
       "      <td>19</td>\n",
       "      <td>0</td>\n",
       "      <td>0</td>\n",
       "      <td>0</td>\n",
       "      <td>0</td>\n",
       "      <td>False</td>\n",
       "      <td>2016-04-27</td>\n",
       "      <td>2016-04-29</td>\n",
       "      <td>2016-04-27</td>\n",
       "      <td>2016-04-29</td>\n",
       "      <td>2 days</td>\n",
       "    </tr>\n",
       "  </tbody>\n",
       "</table>\n",
       "</div>"
      ],
      "text/plain": [
       "  Gender          ScheduledDay        AppointmentDay  Age  Scholarship  \\\n",
       "0      F  2016-04-29T18:38:08Z  2016-04-29T00:00:00Z   62            0   \n",
       "1      M  2016-04-29T16:08:27Z  2016-04-29T00:00:00Z   56            0   \n",
       "2      F  2016-04-29T16:19:04Z  2016-04-29T00:00:00Z   62            0   \n",
       "3      F  2016-04-29T17:29:31Z  2016-04-29T00:00:00Z    8            0   \n",
       "4      F  2016-04-29T16:07:23Z  2016-04-29T00:00:00Z   56            0   \n",
       "5      F  2016-04-27T08:36:51Z  2016-04-29T00:00:00Z   76            0   \n",
       "6      F  2016-04-27T15:05:12Z  2016-04-29T00:00:00Z   23            0   \n",
       "7      F  2016-04-27T15:39:58Z  2016-04-29T00:00:00Z   39            0   \n",
       "8      F  2016-04-29T08:02:16Z  2016-04-29T00:00:00Z   21            0   \n",
       "9      F  2016-04-27T12:48:25Z  2016-04-29T00:00:00Z   19            0   \n",
       "\n",
       "   Hipertension  Diabetes  SMS_received  NoShow    Schedule Appointment  \\\n",
       "0             1         0             0   False  2016-04-29  2016-04-29   \n",
       "1             0         0             0   False  2016-04-29  2016-04-29   \n",
       "2             0         0             0   False  2016-04-29  2016-04-29   \n",
       "3             0         0             0   False  2016-04-29  2016-04-29   \n",
       "4             1         1             0   False  2016-04-29  2016-04-29   \n",
       "5             1         0             0   False  2016-04-27  2016-04-29   \n",
       "6             0         0             0    True  2016-04-27  2016-04-29   \n",
       "7             0         0             0    True  2016-04-27  2016-04-29   \n",
       "8             0         0             0   False  2016-04-29  2016-04-29   \n",
       "9             0         0             0   False  2016-04-27  2016-04-29   \n",
       "\n",
       "   Scheduled AppointmentD Waiting  \n",
       "0 2016-04-29   2016-04-29  0 days  \n",
       "1 2016-04-29   2016-04-29  0 days  \n",
       "2 2016-04-29   2016-04-29  0 days  \n",
       "3 2016-04-29   2016-04-29  0 days  \n",
       "4 2016-04-29   2016-04-29  0 days  \n",
       "5 2016-04-27   2016-04-29  2 days  \n",
       "6 2016-04-27   2016-04-29  2 days  \n",
       "7 2016-04-27   2016-04-29  2 days  \n",
       "8 2016-04-29   2016-04-29  0 days  \n",
       "9 2016-04-27   2016-04-29  2 days  "
      ]
     },
     "execution_count": 17,
     "metadata": {},
     "output_type": "execute_result"
    }
   ],
   "source": [
    "data[\"Scheduled\"] = pd.to_datetime(data[\"Schedule\"])\n",
    "data[\"AppointmentD\"] = pd.to_datetime(data[\"Appointment\"])\n",
    "data['Waiting']=data['AppointmentD']-data['Scheduled']\n",
    "data.head(10)"
   ]
  },
  {
   "cell_type": "markdown",
   "metadata": {},
   "source": [
    "The variable “Waiting” can’t serve as a mean. So I got this into the number of days. I had a message that this variable will be deprecated, but I don't know what would be the alternative solution."
   ]
  },
  {
   "cell_type": "code",
   "execution_count": 18,
   "metadata": {},
   "outputs": [
    {
     "name": "stderr",
     "output_type": "stream",
     "text": [
      "C:\\Users\\AntoineM\\Anaconda3\\envs\\investigate2\\lib\\site-packages\\ipykernel_launcher.py:1: FutureWarning: Passing timedelta64-dtype data is deprecated, will raise a TypeError in a future version\n",
      "  \"\"\"Entry point for launching an IPython kernel.\n"
     ]
    },
    {
     "data": {
      "text/html": [
       "<div>\n",
       "<style scoped>\n",
       "    .dataframe tbody tr th:only-of-type {\n",
       "        vertical-align: middle;\n",
       "    }\n",
       "\n",
       "    .dataframe tbody tr th {\n",
       "        vertical-align: top;\n",
       "    }\n",
       "\n",
       "    .dataframe thead th {\n",
       "        text-align: right;\n",
       "    }\n",
       "</style>\n",
       "<table border=\"1\" class=\"dataframe\">\n",
       "  <thead>\n",
       "    <tr style=\"text-align: right;\">\n",
       "      <th></th>\n",
       "      <th>Gender</th>\n",
       "      <th>ScheduledDay</th>\n",
       "      <th>AppointmentDay</th>\n",
       "      <th>Age</th>\n",
       "      <th>Scholarship</th>\n",
       "      <th>Hipertension</th>\n",
       "      <th>Diabetes</th>\n",
       "      <th>SMS_received</th>\n",
       "      <th>NoShow</th>\n",
       "      <th>Schedule</th>\n",
       "      <th>Appointment</th>\n",
       "      <th>Scheduled</th>\n",
       "      <th>AppointmentD</th>\n",
       "      <th>Waiting</th>\n",
       "      <th>WaitingDay</th>\n",
       "    </tr>\n",
       "  </thead>\n",
       "  <tbody>\n",
       "    <tr>\n",
       "      <th>0</th>\n",
       "      <td>F</td>\n",
       "      <td>2016-04-29T18:38:08Z</td>\n",
       "      <td>2016-04-29T00:00:00Z</td>\n",
       "      <td>62</td>\n",
       "      <td>0</td>\n",
       "      <td>1</td>\n",
       "      <td>0</td>\n",
       "      <td>0</td>\n",
       "      <td>False</td>\n",
       "      <td>2016-04-29</td>\n",
       "      <td>2016-04-29</td>\n",
       "      <td>2016-04-29</td>\n",
       "      <td>2016-04-29</td>\n",
       "      <td>0 days</td>\n",
       "      <td>0</td>\n",
       "    </tr>\n",
       "    <tr>\n",
       "      <th>1</th>\n",
       "      <td>M</td>\n",
       "      <td>2016-04-29T16:08:27Z</td>\n",
       "      <td>2016-04-29T00:00:00Z</td>\n",
       "      <td>56</td>\n",
       "      <td>0</td>\n",
       "      <td>0</td>\n",
       "      <td>0</td>\n",
       "      <td>0</td>\n",
       "      <td>False</td>\n",
       "      <td>2016-04-29</td>\n",
       "      <td>2016-04-29</td>\n",
       "      <td>2016-04-29</td>\n",
       "      <td>2016-04-29</td>\n",
       "      <td>0 days</td>\n",
       "      <td>0</td>\n",
       "    </tr>\n",
       "    <tr>\n",
       "      <th>2</th>\n",
       "      <td>F</td>\n",
       "      <td>2016-04-29T16:19:04Z</td>\n",
       "      <td>2016-04-29T00:00:00Z</td>\n",
       "      <td>62</td>\n",
       "      <td>0</td>\n",
       "      <td>0</td>\n",
       "      <td>0</td>\n",
       "      <td>0</td>\n",
       "      <td>False</td>\n",
       "      <td>2016-04-29</td>\n",
       "      <td>2016-04-29</td>\n",
       "      <td>2016-04-29</td>\n",
       "      <td>2016-04-29</td>\n",
       "      <td>0 days</td>\n",
       "      <td>0</td>\n",
       "    </tr>\n",
       "    <tr>\n",
       "      <th>3</th>\n",
       "      <td>F</td>\n",
       "      <td>2016-04-29T17:29:31Z</td>\n",
       "      <td>2016-04-29T00:00:00Z</td>\n",
       "      <td>8</td>\n",
       "      <td>0</td>\n",
       "      <td>0</td>\n",
       "      <td>0</td>\n",
       "      <td>0</td>\n",
       "      <td>False</td>\n",
       "      <td>2016-04-29</td>\n",
       "      <td>2016-04-29</td>\n",
       "      <td>2016-04-29</td>\n",
       "      <td>2016-04-29</td>\n",
       "      <td>0 days</td>\n",
       "      <td>0</td>\n",
       "    </tr>\n",
       "    <tr>\n",
       "      <th>4</th>\n",
       "      <td>F</td>\n",
       "      <td>2016-04-29T16:07:23Z</td>\n",
       "      <td>2016-04-29T00:00:00Z</td>\n",
       "      <td>56</td>\n",
       "      <td>0</td>\n",
       "      <td>1</td>\n",
       "      <td>1</td>\n",
       "      <td>0</td>\n",
       "      <td>False</td>\n",
       "      <td>2016-04-29</td>\n",
       "      <td>2016-04-29</td>\n",
       "      <td>2016-04-29</td>\n",
       "      <td>2016-04-29</td>\n",
       "      <td>0 days</td>\n",
       "      <td>0</td>\n",
       "    </tr>\n",
       "    <tr>\n",
       "      <th>5</th>\n",
       "      <td>F</td>\n",
       "      <td>2016-04-27T08:36:51Z</td>\n",
       "      <td>2016-04-29T00:00:00Z</td>\n",
       "      <td>76</td>\n",
       "      <td>0</td>\n",
       "      <td>1</td>\n",
       "      <td>0</td>\n",
       "      <td>0</td>\n",
       "      <td>False</td>\n",
       "      <td>2016-04-27</td>\n",
       "      <td>2016-04-29</td>\n",
       "      <td>2016-04-27</td>\n",
       "      <td>2016-04-29</td>\n",
       "      <td>2 days</td>\n",
       "      <td>2</td>\n",
       "    </tr>\n",
       "    <tr>\n",
       "      <th>6</th>\n",
       "      <td>F</td>\n",
       "      <td>2016-04-27T15:05:12Z</td>\n",
       "      <td>2016-04-29T00:00:00Z</td>\n",
       "      <td>23</td>\n",
       "      <td>0</td>\n",
       "      <td>0</td>\n",
       "      <td>0</td>\n",
       "      <td>0</td>\n",
       "      <td>True</td>\n",
       "      <td>2016-04-27</td>\n",
       "      <td>2016-04-29</td>\n",
       "      <td>2016-04-27</td>\n",
       "      <td>2016-04-29</td>\n",
       "      <td>2 days</td>\n",
       "      <td>2</td>\n",
       "    </tr>\n",
       "    <tr>\n",
       "      <th>7</th>\n",
       "      <td>F</td>\n",
       "      <td>2016-04-27T15:39:58Z</td>\n",
       "      <td>2016-04-29T00:00:00Z</td>\n",
       "      <td>39</td>\n",
       "      <td>0</td>\n",
       "      <td>0</td>\n",
       "      <td>0</td>\n",
       "      <td>0</td>\n",
       "      <td>True</td>\n",
       "      <td>2016-04-27</td>\n",
       "      <td>2016-04-29</td>\n",
       "      <td>2016-04-27</td>\n",
       "      <td>2016-04-29</td>\n",
       "      <td>2 days</td>\n",
       "      <td>2</td>\n",
       "    </tr>\n",
       "    <tr>\n",
       "      <th>8</th>\n",
       "      <td>F</td>\n",
       "      <td>2016-04-29T08:02:16Z</td>\n",
       "      <td>2016-04-29T00:00:00Z</td>\n",
       "      <td>21</td>\n",
       "      <td>0</td>\n",
       "      <td>0</td>\n",
       "      <td>0</td>\n",
       "      <td>0</td>\n",
       "      <td>False</td>\n",
       "      <td>2016-04-29</td>\n",
       "      <td>2016-04-29</td>\n",
       "      <td>2016-04-29</td>\n",
       "      <td>2016-04-29</td>\n",
       "      <td>0 days</td>\n",
       "      <td>0</td>\n",
       "    </tr>\n",
       "    <tr>\n",
       "      <th>9</th>\n",
       "      <td>F</td>\n",
       "      <td>2016-04-27T12:48:25Z</td>\n",
       "      <td>2016-04-29T00:00:00Z</td>\n",
       "      <td>19</td>\n",
       "      <td>0</td>\n",
       "      <td>0</td>\n",
       "      <td>0</td>\n",
       "      <td>0</td>\n",
       "      <td>False</td>\n",
       "      <td>2016-04-27</td>\n",
       "      <td>2016-04-29</td>\n",
       "      <td>2016-04-27</td>\n",
       "      <td>2016-04-29</td>\n",
       "      <td>2 days</td>\n",
       "      <td>2</td>\n",
       "    </tr>\n",
       "  </tbody>\n",
       "</table>\n",
       "</div>"
      ],
      "text/plain": [
       "  Gender          ScheduledDay        AppointmentDay  Age  Scholarship  \\\n",
       "0      F  2016-04-29T18:38:08Z  2016-04-29T00:00:00Z   62            0   \n",
       "1      M  2016-04-29T16:08:27Z  2016-04-29T00:00:00Z   56            0   \n",
       "2      F  2016-04-29T16:19:04Z  2016-04-29T00:00:00Z   62            0   \n",
       "3      F  2016-04-29T17:29:31Z  2016-04-29T00:00:00Z    8            0   \n",
       "4      F  2016-04-29T16:07:23Z  2016-04-29T00:00:00Z   56            0   \n",
       "5      F  2016-04-27T08:36:51Z  2016-04-29T00:00:00Z   76            0   \n",
       "6      F  2016-04-27T15:05:12Z  2016-04-29T00:00:00Z   23            0   \n",
       "7      F  2016-04-27T15:39:58Z  2016-04-29T00:00:00Z   39            0   \n",
       "8      F  2016-04-29T08:02:16Z  2016-04-29T00:00:00Z   21            0   \n",
       "9      F  2016-04-27T12:48:25Z  2016-04-29T00:00:00Z   19            0   \n",
       "\n",
       "   Hipertension  Diabetes  SMS_received  NoShow    Schedule Appointment  \\\n",
       "0             1         0             0   False  2016-04-29  2016-04-29   \n",
       "1             0         0             0   False  2016-04-29  2016-04-29   \n",
       "2             0         0             0   False  2016-04-29  2016-04-29   \n",
       "3             0         0             0   False  2016-04-29  2016-04-29   \n",
       "4             1         1             0   False  2016-04-29  2016-04-29   \n",
       "5             1         0             0   False  2016-04-27  2016-04-29   \n",
       "6             0         0             0    True  2016-04-27  2016-04-29   \n",
       "7             0         0             0    True  2016-04-27  2016-04-29   \n",
       "8             0         0             0   False  2016-04-29  2016-04-29   \n",
       "9             0         0             0   False  2016-04-27  2016-04-29   \n",
       "\n",
       "   Scheduled AppointmentD Waiting  WaitingDay  \n",
       "0 2016-04-29   2016-04-29  0 days           0  \n",
       "1 2016-04-29   2016-04-29  0 days           0  \n",
       "2 2016-04-29   2016-04-29  0 days           0  \n",
       "3 2016-04-29   2016-04-29  0 days           0  \n",
       "4 2016-04-29   2016-04-29  0 days           0  \n",
       "5 2016-04-27   2016-04-29  2 days           2  \n",
       "6 2016-04-27   2016-04-29  2 days           2  \n",
       "7 2016-04-27   2016-04-29  2 days           2  \n",
       "8 2016-04-29   2016-04-29  0 days           0  \n",
       "9 2016-04-27   2016-04-29  2 days           2  "
      ]
     },
     "execution_count": 18,
     "metadata": {},
     "output_type": "execute_result"
    }
   ],
   "source": [
    "data['WaitingDay'] = pd.DatetimeIndex(data['Waiting']).day -1\n",
    "data.head(10)"
   ]
  },
  {
   "cell_type": "markdown",
   "metadata": {},
   "source": [
    "Finally, I could see the distribution of \"Waiting Day\". Lots of medical appointments are planned for the same day (at least 25%), and at least 25% have 10 days between the Scheduled Day and the Waiting Day. The median is on Three-Day waiting and the third quartile is on ten-day waiting."
   ]
  },
  {
   "cell_type": "code",
   "execution_count": 19,
   "metadata": {},
   "outputs": [
    {
     "data": {
      "text/plain": [
       "count    110527.000000\n",
       "mean          6.586409\n",
       "std           8.252418\n",
       "min           0.000000\n",
       "25%           0.000000\n",
       "50%           3.000000\n",
       "75%          10.000000\n",
       "max          30.000000\n",
       "Name: WaitingDay, dtype: float64"
      ]
     },
     "execution_count": 19,
     "metadata": {},
     "output_type": "execute_result"
    }
   ],
   "source": [
    "data['WaitingDay'].describe()"
   ]
  },
  {
   "cell_type": "markdown",
   "metadata": {},
   "source": [
    "### Appointment Hours are all the same\n",
    "I also wanted to get the appointment hours to see if there was a No Show difference between the morning and the afternoon, for example. But when I took only the hours, I observed that this data set contains only \"00\" value. So the variable “AppointmentDay” mightn’t contain the appointment hours."
   ]
  },
  {
   "cell_type": "code",
   "execution_count": 20,
   "metadata": {},
   "outputs": [
    {
     "data": {
      "text/plain": [
       "00    110527\n",
       "Name: AppointmentDay, dtype: int64"
      ]
     },
     "execution_count": 20,
     "metadata": {},
     "output_type": "execute_result"
    }
   ],
   "source": [
    "data['AppointmentDay'].str[-9:-7].value_counts()"
   ]
  },
  {
   "cell_type": "markdown",
   "metadata": {},
   "source": [
    "<a id='eda'></a>\n",
    "## Exploratory Data Analysis\n",
    "\n",
    "### 1) Can the number of days between scheduling and appointment predict No Show\n",
    "The first variable I wanted to test on No Show was the day difference between the Scheduling and the Appointment. As I took the means, I saw there was a huge difference: people who did show waited 5.7 days on average, and people who didn't show up should have waited 10 days. But the histogram didn't make it so clear. So I took the mean of each number of waiting days between the scheduling and the appointment. There was a big difference when there was \"0\" days waiting, but no clear difference for the other values. It might be normal that an appointment taken the same day wasn't as much spoiled comparing to the other days."
   ]
  },
  {
   "cell_type": "code",
   "execution_count": 21,
   "metadata": {},
   "outputs": [
    {
     "name": "stdout",
     "output_type": "stream",
     "text": [
      "Average number of waiting days when Patients showed: 5.699381008525304\n",
      "Average number of waiting days when Patients didn't show: 10.09207401765312\n"
     ]
    }
   ],
   "source": [
    "print(\"Average number of waiting days when Patients showed:\",data.WaitingDay[did_show].mean())\n",
    "print(\"Average number of waiting days when Patients didn't show:\",data.WaitingDay[didnt_show].mean())\n"
   ]
  },
  {
   "cell_type": "markdown",
   "metadata": {},
   "source": [
    "We can see something very interesting here: lots of appointments are made the same day (more than 40'000 appointments), which concentrates the \"did show\" values on this value of the variable."
   ]
  },
  {
   "cell_type": "code",
   "execution_count": 22,
   "metadata": {},
   "outputs": [
    {
     "data": {
      "text/plain": [
       "Text(0.5, 1.0, \"Percentage of did show and didn't show per number of days waiting\")"
      ]
     },
     "execution_count": 22,
     "metadata": {},
     "output_type": "execute_result"
    },
    {
     "data": {
      "image/png": "[encoded data removed]",
      "text/plain": [
       "<Figure size 432x288 with 1 Axes>"
      ]
     },
     "metadata": {
      "needs_background": "light"
     },
     "output_type": "display_data"
    }
   ],
   "source": [
    "data.WaitingDay[did_show].hist(alpha=0.5,bins=20,label='did show',color='g')\n",
    "data.WaitingDay[didnt_show].hist(alpha=0.5,bins=20,label=\"didn't show\")\n",
    "plt.legend()\n",
    "plt.title(\"Percentage of did show and didn't show per number of days waiting\")\n"
   ]
  },
  {
   "cell_type": "markdown",
   "metadata": {},
   "source": [
    "If we look at the raw data, we a very low NoShow rate when there isn't any waiting day (surely because it's on the same day, so it's easier to come). And a slight increase until 10 waiting days is reached (0,32). So it would be interesting to segment this variable in this number of waiting days."
   ]
  },
  {
   "cell_type": "code",
   "execution_count": 23,
   "metadata": {
    "scrolled": true
   },
   "outputs": [
    {
     "data": {
      "text/plain": [
       "WaitingDay\n",
       "0     0.052306\n",
       "1     0.229757\n",
       "2     0.246348\n",
       "3     0.255012\n",
       "4     0.255066\n",
       "5     0.274239\n",
       "6     0.257494\n",
       "7     0.270398\n",
       "8     0.289883\n",
       "9     0.293416\n",
       "10    0.323721\n",
       "11    0.329188\n",
       "12    0.310393\n",
       "13    0.317610\n",
       "14    0.317286\n",
       "15    0.335333\n",
       "16    0.304805\n",
       "17    0.312936\n",
       "18    0.311589\n",
       "19    0.336759\n",
       "20    0.346124\n",
       "21    0.307497\n",
       "22    0.343653\n",
       "23    0.338170\n",
       "24    0.385656\n",
       "25    0.357065\n",
       "26    0.356401\n",
       "27    0.315929\n",
       "28    0.294457\n",
       "29    0.325518\n",
       "30    0.273103\n",
       "Name: NoShow, dtype: float64"
      ]
     },
     "execution_count": 23,
     "metadata": {},
     "output_type": "execute_result"
    }
   ],
   "source": [
    "data.groupby('WaitingDay').NoShow.mean()"
   ]
  },
  {
   "cell_type": "markdown",
   "metadata": {},
   "source": [
    "As the variable \"WaitingDay\" gets its peak on 10-day waiting, I would like to segment this variable to have only 0-day waiting (which removes the biases observed before), before 10-day waiting and after 10-day waiting. This segmentation made the difference more visible."
   ]
  },
  {
   "cell_type": "code",
   "execution_count": 24,
   "metadata": {},
   "outputs": [
    {
     "data": {
      "text/html": [
       "<div>\n",
       "<style scoped>\n",
       "    .dataframe tbody tr th:only-of-type {\n",
       "        vertical-align: middle;\n",
       "    }\n",
       "\n",
       "    .dataframe tbody tr th {\n",
       "        vertical-align: top;\n",
       "    }\n",
       "\n",
       "    .dataframe thead th {\n",
       "        text-align: right;\n",
       "    }\n",
       "</style>\n",
       "<table border=\"1\" class=\"dataframe\">\n",
       "  <thead>\n",
       "    <tr style=\"text-align: right;\">\n",
       "      <th></th>\n",
       "      <th>Gender</th>\n",
       "      <th>ScheduledDay</th>\n",
       "      <th>AppointmentDay</th>\n",
       "      <th>Age</th>\n",
       "      <th>Scholarship</th>\n",
       "      <th>Hipertension</th>\n",
       "      <th>Diabetes</th>\n",
       "      <th>SMS_received</th>\n",
       "      <th>NoShow</th>\n",
       "      <th>Schedule</th>\n",
       "      <th>Appointment</th>\n",
       "      <th>Scheduled</th>\n",
       "      <th>AppointmentD</th>\n",
       "      <th>Waiting</th>\n",
       "      <th>WaitingDay</th>\n",
       "      <th>Waiting_category</th>\n",
       "    </tr>\n",
       "  </thead>\n",
       "  <tbody>\n",
       "    <tr>\n",
       "      <th>0</th>\n",
       "      <td>F</td>\n",
       "      <td>2016-04-29T18:38:08Z</td>\n",
       "      <td>2016-04-29T00:00:00Z</td>\n",
       "      <td>62</td>\n",
       "      <td>0</td>\n",
       "      <td>1</td>\n",
       "      <td>0</td>\n",
       "      <td>0</td>\n",
       "      <td>False</td>\n",
       "      <td>2016-04-29</td>\n",
       "      <td>2016-04-29</td>\n",
       "      <td>2016-04-29</td>\n",
       "      <td>2016-04-29</td>\n",
       "      <td>0 days</td>\n",
       "      <td>0</td>\n",
       "      <td>No waiting day</td>\n",
       "    </tr>\n",
       "    <tr>\n",
       "      <th>1</th>\n",
       "      <td>M</td>\n",
       "      <td>2016-04-29T16:08:27Z</td>\n",
       "      <td>2016-04-29T00:00:00Z</td>\n",
       "      <td>56</td>\n",
       "      <td>0</td>\n",
       "      <td>0</td>\n",
       "      <td>0</td>\n",
       "      <td>0</td>\n",
       "      <td>False</td>\n",
       "      <td>2016-04-29</td>\n",
       "      <td>2016-04-29</td>\n",
       "      <td>2016-04-29</td>\n",
       "      <td>2016-04-29</td>\n",
       "      <td>0 days</td>\n",
       "      <td>0</td>\n",
       "      <td>No waiting day</td>\n",
       "    </tr>\n",
       "    <tr>\n",
       "      <th>2</th>\n",
       "      <td>F</td>\n",
       "      <td>2016-04-29T16:19:04Z</td>\n",
       "      <td>2016-04-29T00:00:00Z</td>\n",
       "      <td>62</td>\n",
       "      <td>0</td>\n",
       "      <td>0</td>\n",
       "      <td>0</td>\n",
       "      <td>0</td>\n",
       "      <td>False</td>\n",
       "      <td>2016-04-29</td>\n",
       "      <td>2016-04-29</td>\n",
       "      <td>2016-04-29</td>\n",
       "      <td>2016-04-29</td>\n",
       "      <td>0 days</td>\n",
       "      <td>0</td>\n",
       "      <td>No waiting day</td>\n",
       "    </tr>\n",
       "    <tr>\n",
       "      <th>3</th>\n",
       "      <td>F</td>\n",
       "      <td>2016-04-29T17:29:31Z</td>\n",
       "      <td>2016-04-29T00:00:00Z</td>\n",
       "      <td>8</td>\n",
       "      <td>0</td>\n",
       "      <td>0</td>\n",
       "      <td>0</td>\n",
       "      <td>0</td>\n",
       "      <td>False</td>\n",
       "      <td>2016-04-29</td>\n",
       "      <td>2016-04-29</td>\n",
       "      <td>2016-04-29</td>\n",
       "      <td>2016-04-29</td>\n",
       "      <td>0 days</td>\n",
       "      <td>0</td>\n",
       "      <td>No waiting day</td>\n",
       "    </tr>\n",
       "    <tr>\n",
       "      <th>4</th>\n",
       "      <td>F</td>\n",
       "      <td>2016-04-29T16:07:23Z</td>\n",
       "      <td>2016-04-29T00:00:00Z</td>\n",
       "      <td>56</td>\n",
       "      <td>0</td>\n",
       "      <td>1</td>\n",
       "      <td>1</td>\n",
       "      <td>0</td>\n",
       "      <td>False</td>\n",
       "      <td>2016-04-29</td>\n",
       "      <td>2016-04-29</td>\n",
       "      <td>2016-04-29</td>\n",
       "      <td>2016-04-29</td>\n",
       "      <td>0 days</td>\n",
       "      <td>0</td>\n",
       "      <td>No waiting day</td>\n",
       "    </tr>\n",
       "  </tbody>\n",
       "</table>\n",
       "</div>"
      ],
      "text/plain": [
       "  Gender          ScheduledDay        AppointmentDay  Age  Scholarship  \\\n",
       "0      F  2016-04-29T18:38:08Z  2016-04-29T00:00:00Z   62            0   \n",
       "1      M  2016-04-29T16:08:27Z  2016-04-29T00:00:00Z   56            0   \n",
       "2      F  2016-04-29T16:19:04Z  2016-04-29T00:00:00Z   62            0   \n",
       "3      F  2016-04-29T17:29:31Z  2016-04-29T00:00:00Z    8            0   \n",
       "4      F  2016-04-29T16:07:23Z  2016-04-29T00:00:00Z   56            0   \n",
       "\n",
       "   Hipertension  Diabetes  SMS_received  NoShow    Schedule Appointment  \\\n",
       "0             1         0             0   False  2016-04-29  2016-04-29   \n",
       "1             0         0             0   False  2016-04-29  2016-04-29   \n",
       "2             0         0             0   False  2016-04-29  2016-04-29   \n",
       "3             0         0             0   False  2016-04-29  2016-04-29   \n",
       "4             1         1             0   False  2016-04-29  2016-04-29   \n",
       "\n",
       "   Scheduled AppointmentD Waiting  WaitingDay Waiting_category  \n",
       "0 2016-04-29   2016-04-29  0 days           0   No waiting day  \n",
       "1 2016-04-29   2016-04-29  0 days           0   No waiting day  \n",
       "2 2016-04-29   2016-04-29  0 days           0   No waiting day  \n",
       "3 2016-04-29   2016-04-29  0 days           0   No waiting day  \n",
       "4 2016-04-29   2016-04-29  0 days           0   No waiting day  "
      ]
     },
     "execution_count": 24,
     "metadata": {},
     "output_type": "execute_result"
    }
   ],
   "source": [
    "bin_edges=[-1,0.1,9.9,31]\n",
    "bin_names=[\"No waiting day\",'1-9 waiting days','More than 10 waiting days']\n",
    "data['Waiting_category'] = pd.cut(data['WaitingDay'], bin_edges, labels=bin_names)\n",
    "data[data['WaitingDay']==0].head()"
   ]
  },
  {
   "cell_type": "markdown",
   "metadata": {},
   "source": [
    "If we take the difference between \"low\" and \"high\" waiting days, and if we ignore 0 days waiting, we see that people who wait least than 10 days were 7 percent more to not showing up, which is an expected association."
   ]
  },
  {
   "cell_type": "code",
   "execution_count": 25,
   "metadata": {},
   "outputs": [
    {
     "data": {
      "text/plain": [
       "Waiting_category\n",
       "No waiting day                5.230550\n",
       "1-9 waiting days             25.779680\n",
       "More than 10 waiting days    32.320753\n",
       "Name: NoShow, dtype: float64"
      ]
     },
     "execution_count": 25,
     "metadata": {},
     "output_type": "execute_result"
    }
   ],
   "source": [
    "data.groupby('Waiting_category').NoShow.mean()*100"
   ]
  },
  {
   "cell_type": "code",
   "execution_count": 26,
   "metadata": {},
   "outputs": [],
   "source": [
    "data[['0 day','1-9 days','More than 9 days']]=pd.get_dummies(data['Waiting_category'])"
   ]
  },
  {
   "cell_type": "markdown",
   "metadata": {},
   "source": [
    "According to P-Value, the associations between Waiting and No-Show are statistically significative."
   ]
  },
  {
   "cell_type": "code",
   "execution_count": 27,
   "metadata": {},
   "outputs": [
    {
     "name": "stdout",
     "output_type": "stream",
     "text": [
      "Optimization terminated successfully.\n",
      "         Current function value: 0.456035\n",
      "         Iterations 7\n",
      "                          Results: Logit\n",
      "==================================================================\n",
      "Model:              Logit            Pseudo R-squared: 0.093      \n",
      "Dependent Variable: NoShow           AIC:              100814.4214\n",
      "Date:               2020-01-21 16:39 BIC:              100843.2605\n",
      "No. Observations:   110527           Log-Likelihood:   -50404.    \n",
      "Df Model:           2                LL-Null:          -55603.    \n",
      "Df Residuals:       110524           LLR p-value:      0.0000     \n",
      "Converged:          1.0000           Scale:            1.0000     \n",
      "No. Iterations:     7.0000                                        \n",
      "------------------------------------------------------------------\n",
      "                   Coef.  Std.Err.    z     P>|z|   [0.025  0.975]\n",
      "------------------------------------------------------------------\n",
      "intercept         -1.0575   0.0112 -94.5826 0.0000 -1.0794 -1.0355\n",
      "0 day             -1.8395   0.0252 -72.8699 0.0000 -1.8890 -1.7900\n",
      "More than 9 days   0.3184   0.0168  18.9979 0.0000  0.2855  0.3512\n",
      "==================================================================\n",
      "\n"
     ]
    }
   ],
   "source": [
    "data['intercept']=1\n",
    "logit_model=sm.Logit(data['NoShow'],data[['intercept','0 day','More than 9 days']])\n",
    "result=logit_model.fit()\n",
    "print(result.summary2())"
   ]
  },
  {
   "cell_type": "code",
   "execution_count": 28,
   "metadata": {},
   "outputs": [
    {
     "data": {
      "text/html": [
       "<div>\n",
       "<style scoped>\n",
       "    .dataframe tbody tr th:only-of-type {\n",
       "        vertical-align: middle;\n",
       "    }\n",
       "\n",
       "    .dataframe tbody tr th {\n",
       "        vertical-align: top;\n",
       "    }\n",
       "\n",
       "    .dataframe thead th {\n",
       "        text-align: right;\n",
       "    }\n",
       "</style>\n",
       "<table border=\"1\" class=\"dataframe\">\n",
       "  <thead>\n",
       "    <tr style=\"text-align: right;\">\n",
       "      <th></th>\n",
       "      <th>Gender</th>\n",
       "      <th>ScheduledDay</th>\n",
       "      <th>AppointmentDay</th>\n",
       "      <th>Age</th>\n",
       "      <th>Scholarship</th>\n",
       "      <th>Hipertension</th>\n",
       "      <th>Diabetes</th>\n",
       "      <th>SMS_received</th>\n",
       "      <th>NoShow</th>\n",
       "      <th>Schedule</th>\n",
       "      <th>Appointment</th>\n",
       "      <th>Scheduled</th>\n",
       "      <th>AppointmentD</th>\n",
       "      <th>Waiting</th>\n",
       "      <th>WaitingDay</th>\n",
       "      <th>Waiting_category</th>\n",
       "      <th>0 day</th>\n",
       "      <th>1-9 days</th>\n",
       "      <th>More than 9 days</th>\n",
       "      <th>intercept</th>\n",
       "    </tr>\n",
       "  </thead>\n",
       "  <tbody>\n",
       "    <tr>\n",
       "      <th>0</th>\n",
       "      <td>F</td>\n",
       "      <td>2016-04-29T18:38:08Z</td>\n",
       "      <td>2016-04-29T00:00:00Z</td>\n",
       "      <td>62</td>\n",
       "      <td>0</td>\n",
       "      <td>1</td>\n",
       "      <td>0</td>\n",
       "      <td>0</td>\n",
       "      <td>False</td>\n",
       "      <td>2016-04-29</td>\n",
       "      <td>2016-04-29</td>\n",
       "      <td>2016-04-29</td>\n",
       "      <td>2016-04-29</td>\n",
       "      <td>0 days</td>\n",
       "      <td>0</td>\n",
       "      <td>No waiting day</td>\n",
       "      <td>1</td>\n",
       "      <td>0</td>\n",
       "      <td>0</td>\n",
       "      <td>1</td>\n",
       "    </tr>\n",
       "    <tr>\n",
       "      <th>1</th>\n",
       "      <td>M</td>\n",
       "      <td>2016-04-29T16:08:27Z</td>\n",
       "      <td>2016-04-29T00:00:00Z</td>\n",
       "      <td>56</td>\n",
       "      <td>0</td>\n",
       "      <td>0</td>\n",
       "      <td>0</td>\n",
       "      <td>0</td>\n",
       "      <td>False</td>\n",
       "      <td>2016-04-29</td>\n",
       "      <td>2016-04-29</td>\n",
       "      <td>2016-04-29</td>\n",
       "      <td>2016-04-29</td>\n",
       "      <td>0 days</td>\n",
       "      <td>0</td>\n",
       "      <td>No waiting day</td>\n",
       "      <td>1</td>\n",
       "      <td>0</td>\n",
       "      <td>0</td>\n",
       "      <td>1</td>\n",
       "    </tr>\n",
       "    <tr>\n",
       "      <th>2</th>\n",
       "      <td>F</td>\n",
       "      <td>2016-04-29T16:19:04Z</td>\n",
       "      <td>2016-04-29T00:00:00Z</td>\n",
       "      <td>62</td>\n",
       "      <td>0</td>\n",
       "      <td>0</td>\n",
       "      <td>0</td>\n",
       "      <td>0</td>\n",
       "      <td>False</td>\n",
       "      <td>2016-04-29</td>\n",
       "      <td>2016-04-29</td>\n",
       "      <td>2016-04-29</td>\n",
       "      <td>2016-04-29</td>\n",
       "      <td>0 days</td>\n",
       "      <td>0</td>\n",
       "      <td>No waiting day</td>\n",
       "      <td>1</td>\n",
       "      <td>0</td>\n",
       "      <td>0</td>\n",
       "      <td>1</td>\n",
       "    </tr>\n",
       "    <tr>\n",
       "      <th>3</th>\n",
       "      <td>F</td>\n",
       "      <td>2016-04-29T17:29:31Z</td>\n",
       "      <td>2016-04-29T00:00:00Z</td>\n",
       "      <td>8</td>\n",
       "      <td>0</td>\n",
       "      <td>0</td>\n",
       "      <td>0</td>\n",
       "      <td>0</td>\n",
       "      <td>False</td>\n",
       "      <td>2016-04-29</td>\n",
       "      <td>2016-04-29</td>\n",
       "      <td>2016-04-29</td>\n",
       "      <td>2016-04-29</td>\n",
       "      <td>0 days</td>\n",
       "      <td>0</td>\n",
       "      <td>No waiting day</td>\n",
       "      <td>1</td>\n",
       "      <td>0</td>\n",
       "      <td>0</td>\n",
       "      <td>1</td>\n",
       "    </tr>\n",
       "    <tr>\n",
       "      <th>4</th>\n",
       "      <td>F</td>\n",
       "      <td>2016-04-29T16:07:23Z</td>\n",
       "      <td>2016-04-29T00:00:00Z</td>\n",
       "      <td>56</td>\n",
       "      <td>0</td>\n",
       "      <td>1</td>\n",
       "      <td>1</td>\n",
       "      <td>0</td>\n",
       "      <td>False</td>\n",
       "      <td>2016-04-29</td>\n",
       "      <td>2016-04-29</td>\n",
       "      <td>2016-04-29</td>\n",
       "      <td>2016-04-29</td>\n",
       "      <td>0 days</td>\n",
       "      <td>0</td>\n",
       "      <td>No waiting day</td>\n",
       "      <td>1</td>\n",
       "      <td>0</td>\n",
       "      <td>0</td>\n",
       "      <td>1</td>\n",
       "    </tr>\n",
       "  </tbody>\n",
       "</table>\n",
       "</div>"
      ],
      "text/plain": [
       "  Gender          ScheduledDay        AppointmentDay  Age  Scholarship  \\\n",
       "0      F  2016-04-29T18:38:08Z  2016-04-29T00:00:00Z   62            0   \n",
       "1      M  2016-04-29T16:08:27Z  2016-04-29T00:00:00Z   56            0   \n",
       "2      F  2016-04-29T16:19:04Z  2016-04-29T00:00:00Z   62            0   \n",
       "3      F  2016-04-29T17:29:31Z  2016-04-29T00:00:00Z    8            0   \n",
       "4      F  2016-04-29T16:07:23Z  2016-04-29T00:00:00Z   56            0   \n",
       "\n",
       "   Hipertension  Diabetes  SMS_received  NoShow    Schedule Appointment  \\\n",
       "0             1         0             0   False  2016-04-29  2016-04-29   \n",
       "1             0         0             0   False  2016-04-29  2016-04-29   \n",
       "2             0         0             0   False  2016-04-29  2016-04-29   \n",
       "3             0         0             0   False  2016-04-29  2016-04-29   \n",
       "4             1         1             0   False  2016-04-29  2016-04-29   \n",
       "\n",
       "   Scheduled AppointmentD Waiting  WaitingDay Waiting_category  0 day  \\\n",
       "0 2016-04-29   2016-04-29  0 days           0   No waiting day      1   \n",
       "1 2016-04-29   2016-04-29  0 days           0   No waiting day      1   \n",
       "2 2016-04-29   2016-04-29  0 days           0   No waiting day      1   \n",
       "3 2016-04-29   2016-04-29  0 days           0   No waiting day      1   \n",
       "4 2016-04-29   2016-04-29  0 days           0   No waiting day      1   \n",
       "\n",
       "   1-9 days  More than 9 days  intercept  \n",
       "0         0                 0          1  \n",
       "1         0                 0          1  \n",
       "2         0                 0          1  \n",
       "3         0                 0          1  \n",
       "4         0                 0          1  "
      ]
     },
     "execution_count": 28,
     "metadata": {},
     "output_type": "execute_result"
    }
   ],
   "source": [
    "data.head()"
   ]
  },
  {
   "cell_type": "code",
   "execution_count": 29,
   "metadata": {},
   "outputs": [
    {
     "name": "stdout",
     "output_type": "stream",
     "text": [
      "0.3544450953\n"
     ]
    }
   ],
   "source": [
    "print(0.257797 *1.3749)"
   ]
  },
  {
   "cell_type": "markdown",
   "metadata": {},
   "source": [
    "### Can Appointment Month be associated with No-Show?\n",
    "In order to see if No-Show is different according to the months, I created a Month variable from the AppointmentDay variable (the 6th and the 7th characters of this variable more precisely)."
   ]
  },
  {
   "cell_type": "code",
   "execution_count": 30,
   "metadata": {
    "scrolled": true
   },
   "outputs": [
    {
     "data": {
      "text/html": [
       "<div>\n",
       "<style scoped>\n",
       "    .dataframe tbody tr th:only-of-type {\n",
       "        vertical-align: middle;\n",
       "    }\n",
       "\n",
       "    .dataframe tbody tr th {\n",
       "        vertical-align: top;\n",
       "    }\n",
       "\n",
       "    .dataframe thead th {\n",
       "        text-align: right;\n",
       "    }\n",
       "</style>\n",
       "<table border=\"1\" class=\"dataframe\">\n",
       "  <thead>\n",
       "    <tr style=\"text-align: right;\">\n",
       "      <th></th>\n",
       "      <th>Gender</th>\n",
       "      <th>ScheduledDay</th>\n",
       "      <th>AppointmentDay</th>\n",
       "      <th>Age</th>\n",
       "      <th>Scholarship</th>\n",
       "      <th>Hipertension</th>\n",
       "      <th>Diabetes</th>\n",
       "      <th>SMS_received</th>\n",
       "      <th>NoShow</th>\n",
       "      <th>Schedule</th>\n",
       "      <th>...</th>\n",
       "      <th>Scheduled</th>\n",
       "      <th>AppointmentD</th>\n",
       "      <th>Waiting</th>\n",
       "      <th>WaitingDay</th>\n",
       "      <th>Waiting_category</th>\n",
       "      <th>0 day</th>\n",
       "      <th>1-9 days</th>\n",
       "      <th>More than 9 days</th>\n",
       "      <th>intercept</th>\n",
       "      <th>Month</th>\n",
       "    </tr>\n",
       "  </thead>\n",
       "  <tbody>\n",
       "    <tr>\n",
       "      <th>0</th>\n",
       "      <td>F</td>\n",
       "      <td>2016-04-29T18:38:08Z</td>\n",
       "      <td>2016-04-29T00:00:00Z</td>\n",
       "      <td>62</td>\n",
       "      <td>0</td>\n",
       "      <td>1</td>\n",
       "      <td>0</td>\n",
       "      <td>0</td>\n",
       "      <td>False</td>\n",
       "      <td>2016-04-29</td>\n",
       "      <td>...</td>\n",
       "      <td>2016-04-29</td>\n",
       "      <td>2016-04-29</td>\n",
       "      <td>0 days</td>\n",
       "      <td>0</td>\n",
       "      <td>No waiting day</td>\n",
       "      <td>1</td>\n",
       "      <td>0</td>\n",
       "      <td>0</td>\n",
       "      <td>1</td>\n",
       "      <td>04</td>\n",
       "    </tr>\n",
       "    <tr>\n",
       "      <th>1</th>\n",
       "      <td>M</td>\n",
       "      <td>2016-04-29T16:08:27Z</td>\n",
       "      <td>2016-04-29T00:00:00Z</td>\n",
       "      <td>56</td>\n",
       "      <td>0</td>\n",
       "      <td>0</td>\n",
       "      <td>0</td>\n",
       "      <td>0</td>\n",
       "      <td>False</td>\n",
       "      <td>2016-04-29</td>\n",
       "      <td>...</td>\n",
       "      <td>2016-04-29</td>\n",
       "      <td>2016-04-29</td>\n",
       "      <td>0 days</td>\n",
       "      <td>0</td>\n",
       "      <td>No waiting day</td>\n",
       "      <td>1</td>\n",
       "      <td>0</td>\n",
       "      <td>0</td>\n",
       "      <td>1</td>\n",
       "      <td>04</td>\n",
       "    </tr>\n",
       "    <tr>\n",
       "      <th>2</th>\n",
       "      <td>F</td>\n",
       "      <td>2016-04-29T16:19:04Z</td>\n",
       "      <td>2016-04-29T00:00:00Z</td>\n",
       "      <td>62</td>\n",
       "      <td>0</td>\n",
       "      <td>0</td>\n",
       "      <td>0</td>\n",
       "      <td>0</td>\n",
       "      <td>False</td>\n",
       "      <td>2016-04-29</td>\n",
       "      <td>...</td>\n",
       "      <td>2016-04-29</td>\n",
       "      <td>2016-04-29</td>\n",
       "      <td>0 days</td>\n",
       "      <td>0</td>\n",
       "      <td>No waiting day</td>\n",
       "      <td>1</td>\n",
       "      <td>0</td>\n",
       "      <td>0</td>\n",
       "      <td>1</td>\n",
       "      <td>04</td>\n",
       "    </tr>\n",
       "    <tr>\n",
       "      <th>3</th>\n",
       "      <td>F</td>\n",
       "      <td>2016-04-29T17:29:31Z</td>\n",
       "      <td>2016-04-29T00:00:00Z</td>\n",
       "      <td>8</td>\n",
       "      <td>0</td>\n",
       "      <td>0</td>\n",
       "      <td>0</td>\n",
       "      <td>0</td>\n",
       "      <td>False</td>\n",
       "      <td>2016-04-29</td>\n",
       "      <td>...</td>\n",
       "      <td>2016-04-29</td>\n",
       "      <td>2016-04-29</td>\n",
       "      <td>0 days</td>\n",
       "      <td>0</td>\n",
       "      <td>No waiting day</td>\n",
       "      <td>1</td>\n",
       "      <td>0</td>\n",
       "      <td>0</td>\n",
       "      <td>1</td>\n",
       "      <td>04</td>\n",
       "    </tr>\n",
       "    <tr>\n",
       "      <th>4</th>\n",
       "      <td>F</td>\n",
       "      <td>2016-04-29T16:07:23Z</td>\n",
       "      <td>2016-04-29T00:00:00Z</td>\n",
       "      <td>56</td>\n",
       "      <td>0</td>\n",
       "      <td>1</td>\n",
       "      <td>1</td>\n",
       "      <td>0</td>\n",
       "      <td>False</td>\n",
       "      <td>2016-04-29</td>\n",
       "      <td>...</td>\n",
       "      <td>2016-04-29</td>\n",
       "      <td>2016-04-29</td>\n",
       "      <td>0 days</td>\n",
       "      <td>0</td>\n",
       "      <td>No waiting day</td>\n",
       "      <td>1</td>\n",
       "      <td>0</td>\n",
       "      <td>0</td>\n",
       "      <td>1</td>\n",
       "      <td>04</td>\n",
       "    </tr>\n",
       "  </tbody>\n",
       "</table>\n",
       "<p>5 rows × 21 columns</p>\n",
       "</div>"
      ],
      "text/plain": [
       "  Gender          ScheduledDay        AppointmentDay  Age  Scholarship  \\\n",
       "0      F  2016-04-29T18:38:08Z  2016-04-29T00:00:00Z   62            0   \n",
       "1      M  2016-04-29T16:08:27Z  2016-04-29T00:00:00Z   56            0   \n",
       "2      F  2016-04-29T16:19:04Z  2016-04-29T00:00:00Z   62            0   \n",
       "3      F  2016-04-29T17:29:31Z  2016-04-29T00:00:00Z    8            0   \n",
       "4      F  2016-04-29T16:07:23Z  2016-04-29T00:00:00Z   56            0   \n",
       "\n",
       "   Hipertension  Diabetes  SMS_received  NoShow    Schedule  ...  Scheduled  \\\n",
       "0             1         0             0   False  2016-04-29  ... 2016-04-29   \n",
       "1             0         0             0   False  2016-04-29  ... 2016-04-29   \n",
       "2             0         0             0   False  2016-04-29  ... 2016-04-29   \n",
       "3             0         0             0   False  2016-04-29  ... 2016-04-29   \n",
       "4             1         1             0   False  2016-04-29  ... 2016-04-29   \n",
       "\n",
       "  AppointmentD Waiting WaitingDay  Waiting_category 0 day  1-9 days  \\\n",
       "0   2016-04-29  0 days          0    No waiting day     1         0   \n",
       "1   2016-04-29  0 days          0    No waiting day     1         0   \n",
       "2   2016-04-29  0 days          0    No waiting day     1         0   \n",
       "3   2016-04-29  0 days          0    No waiting day     1         0   \n",
       "4   2016-04-29  0 days          0    No waiting day     1         0   \n",
       "\n",
       "   More than 9 days  intercept  Month  \n",
       "0                 0          1     04  \n",
       "1                 0          1     04  \n",
       "2                 0          1     04  \n",
       "3                 0          1     04  \n",
       "4                 0          1     04  \n",
       "\n",
       "[5 rows x 21 columns]"
      ]
     },
     "execution_count": 30,
     "metadata": {},
     "output_type": "execute_result"
    }
   ],
   "source": [
    "data['Month']=data['AppointmentDay'].str[5:7]\n",
    "data.head()"
   ]
  },
  {
   "cell_type": "markdown",
   "metadata": {},
   "source": [
    "Here we see that only 3 months are in the data set, which makes the comparison less interesting."
   ]
  },
  {
   "cell_type": "code",
   "execution_count": 31,
   "metadata": {
    "scrolled": true
   },
   "outputs": [
    {
     "data": {
      "text/plain": [
       "Month  Month\n",
       "04     04        3235\n",
       "05     05       80841\n",
       "06     06       26451\n",
       "Name: Month, dtype: int64"
      ]
     },
     "execution_count": 31,
     "metadata": {},
     "output_type": "execute_result"
    }
   ],
   "source": [
    "data['Month'].groupby(data['Month']).value_counts()"
   ]
  },
  {
   "cell_type": "markdown",
   "metadata": {},
   "source": [
    "Furthermore, there is less than 2% difference between each month."
   ]
  },
  {
   "cell_type": "code",
   "execution_count": 32,
   "metadata": {},
   "outputs": [
    {
     "data": {
      "text/plain": [
       "Month\n",
       "04    19.567233\n",
       "05    20.786482\n",
       "06    18.456769\n",
       "Name: NoShow, dtype: float64"
      ]
     },
     "execution_count": 32,
     "metadata": {},
     "output_type": "execute_result"
    }
   ],
   "source": [
    "data.groupby('Month').NoShow.mean()*100"
   ]
  },
  {
   "cell_type": "markdown",
   "metadata": {},
   "source": [
    "### 3) Can Day of Week be associated with No-Show?\n",
    "In order to see if No-Show can differ with different days of the week, I've made this variable. As I already had a DateTime variable called \"AppointmentD\", I used it to get the day of the week. I've also sorted the labels as showed by this article (https://stackoverflow.com/questions/47741400/pandas-dataframe-group-and-sort-by-weekday?rq=1)"
   ]
  },
  {
   "cell_type": "code",
   "execution_count": 33,
   "metadata": {},
   "outputs": [],
   "source": [
    "data['DayofWeek']=data['AppointmentD'].dt.day_name()\n",
    "days = [ 'Monday', 'Tuesday', 'Wednesday', 'Thursday', 'Friday', 'Saturday', 'Sunday']"
   ]
  },
  {
   "cell_type": "markdown",
   "metadata": {},
   "source": [
    "Here is the new variable per day of the week. We see there are more values for Tuesday and Wednesday (respectively 25640 and 25867), and fewer values for Saturday (39). No value is on Sunday, which is easily understandable because it's the free day of the week."
   ]
  },
  {
   "cell_type": "code",
   "execution_count": 34,
   "metadata": {},
   "outputs": [
    {
     "data": {
      "text/plain": [
       "Monday       22715.0\n",
       "Tuesday      25640.0\n",
       "Wednesday    25867.0\n",
       "Thursday     17247.0\n",
       "Friday       19019.0\n",
       "Saturday        39.0\n",
       "Sunday           NaN\n",
       "Name: DayofWeek, dtype: float64"
      ]
     },
     "execution_count": 34,
     "metadata": {},
     "output_type": "execute_result"
    }
   ],
   "source": [
    "data['DayofWeek'].value_counts().reindex(days)"
   ]
  },
  {
   "cell_type": "markdown",
   "metadata": {},
   "source": [
    "In order to see the differences, I've designed a dashboard. We see that the difference by day of the week is less than 2% at the most. Saturday has more No-show percentage, but it can't make conclusions able as this value has only 39 observations."
   ]
  },
  {
   "cell_type": "code",
   "execution_count": 35,
   "metadata": {},
   "outputs": [
    {
     "data": {
      "text/plain": [
       "DayofWeek\n",
       "Monday       20.647149\n",
       "Tuesday      20.093604\n",
       "Wednesday    19.689179\n",
       "Thursday     19.354091\n",
       "Friday       21.226142\n",
       "Saturday     23.076923\n",
       "Sunday             NaN\n",
       "Name: NoShow, dtype: float64"
      ]
     },
     "execution_count": 35,
     "metadata": {},
     "output_type": "execute_result"
    }
   ],
   "source": [
    "cats = [ 'Monday', 'Tuesday', 'Wednesday', 'Thursday', 'Friday', 'Saturday', 'Sunday']\n",
    "data.groupby(['DayofWeek']).NoShow.mean().reindex(cats) *100"
   ]
  },
  {
   "cell_type": "code",
   "execution_count": 36,
   "metadata": {},
   "outputs": [],
   "source": [
    "data[['Friday','Monday','Saturday','Thursday','Tuesday','Wednesday']]=pd.get_dummies(data['DayofWeek'])\n"
   ]
  },
  {
   "cell_type": "code",
   "execution_count": 37,
   "metadata": {},
   "outputs": [
    {
     "data": {
      "text/html": [
       "<div>\n",
       "<style scoped>\n",
       "    .dataframe tbody tr th:only-of-type {\n",
       "        vertical-align: middle;\n",
       "    }\n",
       "\n",
       "    .dataframe tbody tr th {\n",
       "        vertical-align: top;\n",
       "    }\n",
       "\n",
       "    .dataframe thead th {\n",
       "        text-align: right;\n",
       "    }\n",
       "</style>\n",
       "<table border=\"1\" class=\"dataframe\">\n",
       "  <thead>\n",
       "    <tr style=\"text-align: right;\">\n",
       "      <th></th>\n",
       "      <th>Gender</th>\n",
       "      <th>ScheduledDay</th>\n",
       "      <th>AppointmentDay</th>\n",
       "      <th>Age</th>\n",
       "      <th>Scholarship</th>\n",
       "      <th>Hipertension</th>\n",
       "      <th>Diabetes</th>\n",
       "      <th>SMS_received</th>\n",
       "      <th>NoShow</th>\n",
       "      <th>Schedule</th>\n",
       "      <th>...</th>\n",
       "      <th>More than 9 days</th>\n",
       "      <th>intercept</th>\n",
       "      <th>Month</th>\n",
       "      <th>DayofWeek</th>\n",
       "      <th>Friday</th>\n",
       "      <th>Monday</th>\n",
       "      <th>Saturday</th>\n",
       "      <th>Thursday</th>\n",
       "      <th>Tuesday</th>\n",
       "      <th>Wednesday</th>\n",
       "    </tr>\n",
       "  </thead>\n",
       "  <tbody>\n",
       "    <tr>\n",
       "      <th>72295</th>\n",
       "      <td>F</td>\n",
       "      <td>2016-05-02T13:08:18Z</td>\n",
       "      <td>2016-05-14T00:00:00Z</td>\n",
       "      <td>60</td>\n",
       "      <td>0</td>\n",
       "      <td>0</td>\n",
       "      <td>0</td>\n",
       "      <td>1</td>\n",
       "      <td>False</td>\n",
       "      <td>2016-05-02</td>\n",
       "      <td>...</td>\n",
       "      <td>1</td>\n",
       "      <td>1</td>\n",
       "      <td>05</td>\n",
       "      <td>Saturday</td>\n",
       "      <td>0</td>\n",
       "      <td>0</td>\n",
       "      <td>1</td>\n",
       "      <td>0</td>\n",
       "      <td>0</td>\n",
       "      <td>0</td>\n",
       "    </tr>\n",
       "    <tr>\n",
       "      <th>72296</th>\n",
       "      <td>M</td>\n",
       "      <td>2016-05-12T16:13:24Z</td>\n",
       "      <td>2016-05-14T00:00:00Z</td>\n",
       "      <td>56</td>\n",
       "      <td>0</td>\n",
       "      <td>0</td>\n",
       "      <td>0</td>\n",
       "      <td>0</td>\n",
       "      <td>True</td>\n",
       "      <td>2016-05-12</td>\n",
       "      <td>...</td>\n",
       "      <td>0</td>\n",
       "      <td>1</td>\n",
       "      <td>05</td>\n",
       "      <td>Saturday</td>\n",
       "      <td>0</td>\n",
       "      <td>0</td>\n",
       "      <td>1</td>\n",
       "      <td>0</td>\n",
       "      <td>0</td>\n",
       "      <td>0</td>\n",
       "    </tr>\n",
       "    <tr>\n",
       "      <th>72297</th>\n",
       "      <td>F</td>\n",
       "      <td>2016-05-06T09:35:30Z</td>\n",
       "      <td>2016-05-14T00:00:00Z</td>\n",
       "      <td>27</td>\n",
       "      <td>1</td>\n",
       "      <td>0</td>\n",
       "      <td>0</td>\n",
       "      <td>1</td>\n",
       "      <td>False</td>\n",
       "      <td>2016-05-06</td>\n",
       "      <td>...</td>\n",
       "      <td>0</td>\n",
       "      <td>1</td>\n",
       "      <td>05</td>\n",
       "      <td>Saturday</td>\n",
       "      <td>0</td>\n",
       "      <td>0</td>\n",
       "      <td>1</td>\n",
       "      <td>0</td>\n",
       "      <td>0</td>\n",
       "      <td>0</td>\n",
       "    </tr>\n",
       "    <tr>\n",
       "      <th>72298</th>\n",
       "      <td>M</td>\n",
       "      <td>2016-05-02T12:02:42Z</td>\n",
       "      <td>2016-05-14T00:00:00Z</td>\n",
       "      <td>75</td>\n",
       "      <td>0</td>\n",
       "      <td>1</td>\n",
       "      <td>1</td>\n",
       "      <td>0</td>\n",
       "      <td>False</td>\n",
       "      <td>2016-05-02</td>\n",
       "      <td>...</td>\n",
       "      <td>1</td>\n",
       "      <td>1</td>\n",
       "      <td>05</td>\n",
       "      <td>Saturday</td>\n",
       "      <td>0</td>\n",
       "      <td>0</td>\n",
       "      <td>1</td>\n",
       "      <td>0</td>\n",
       "      <td>0</td>\n",
       "      <td>0</td>\n",
       "    </tr>\n",
       "    <tr>\n",
       "      <th>72299</th>\n",
       "      <td>F</td>\n",
       "      <td>2016-05-09T08:50:55Z</td>\n",
       "      <td>2016-05-14T00:00:00Z</td>\n",
       "      <td>67</td>\n",
       "      <td>0</td>\n",
       "      <td>0</td>\n",
       "      <td>0</td>\n",
       "      <td>1</td>\n",
       "      <td>False</td>\n",
       "      <td>2016-05-09</td>\n",
       "      <td>...</td>\n",
       "      <td>0</td>\n",
       "      <td>1</td>\n",
       "      <td>05</td>\n",
       "      <td>Saturday</td>\n",
       "      <td>0</td>\n",
       "      <td>0</td>\n",
       "      <td>1</td>\n",
       "      <td>0</td>\n",
       "      <td>0</td>\n",
       "      <td>0</td>\n",
       "    </tr>\n",
       "  </tbody>\n",
       "</table>\n",
       "<p>5 rows × 28 columns</p>\n",
       "</div>"
      ],
      "text/plain": [
       "      Gender          ScheduledDay        AppointmentDay  Age  Scholarship  \\\n",
       "72295      F  2016-05-02T13:08:18Z  2016-05-14T00:00:00Z   60            0   \n",
       "72296      M  2016-05-12T16:13:24Z  2016-05-14T00:00:00Z   56            0   \n",
       "72297      F  2016-05-06T09:35:30Z  2016-05-14T00:00:00Z   27            1   \n",
       "72298      M  2016-05-02T12:02:42Z  2016-05-14T00:00:00Z   75            0   \n",
       "72299      F  2016-05-09T08:50:55Z  2016-05-14T00:00:00Z   67            0   \n",
       "\n",
       "       Hipertension  Diabetes  SMS_received  NoShow    Schedule  ...  \\\n",
       "72295             0         0             1   False  2016-05-02  ...   \n",
       "72296             0         0             0    True  2016-05-12  ...   \n",
       "72297             0         0             1   False  2016-05-06  ...   \n",
       "72298             1         1             0   False  2016-05-02  ...   \n",
       "72299             0         0             1   False  2016-05-09  ...   \n",
       "\n",
       "      More than 9 days intercept Month DayofWeek  Friday Monday  Saturday  \\\n",
       "72295                1         1    05  Saturday       0      0         1   \n",
       "72296                0         1    05  Saturday       0      0         1   \n",
       "72297                0         1    05  Saturday       0      0         1   \n",
       "72298                1         1    05  Saturday       0      0         1   \n",
       "72299                0         1    05  Saturday       0      0         1   \n",
       "\n",
       "       Thursday  Tuesday  Wednesday  \n",
       "72295         0        0          0  \n",
       "72296         0        0          0  \n",
       "72297         0        0          0  \n",
       "72298         0        0          0  \n",
       "72299         0        0          0  \n",
       "\n",
       "[5 rows x 28 columns]"
      ]
     },
     "execution_count": 37,
     "metadata": {},
     "output_type": "execute_result"
    }
   ],
   "source": [
    "data[data['DayofWeek']=='Saturday'].head()"
   ]
  },
  {
   "cell_type": "markdown",
   "metadata": {},
   "source": [
    "According to the P Value, the days of the week aren't statistically significative. But another operations would be to try again by using another variables in the association."
   ]
  },
  {
   "cell_type": "code",
   "execution_count": 38,
   "metadata": {},
   "outputs": [
    {
     "name": "stdout",
     "output_type": "stream",
     "text": [
      "Optimization terminated successfully.\n",
      "         Current function value: 0.502946\n",
      "         Iterations 5\n",
      "                          Results: Logit\n",
      "==================================================================\n",
      "Model:              Logit            Pseudo R-squared: 0.000      \n",
      "Dependent Variable: NoShow           AIC:              111190.2131\n",
      "Date:               2020-01-21 16:39 BIC:              111247.8911\n",
      "No. Observations:   110527           Log-Likelihood:   -55589.    \n",
      "Df Model:           5                LL-Null:          -55603.    \n",
      "Df Residuals:       110521           LLR p-value:      4.7767e-05 \n",
      "Converged:          1.0000           Scale:            1.0000     \n",
      "No. Iterations:     5.0000                                        \n",
      "-------------------------------------------------------------------\n",
      "                Coef.   Std.Err.     z     P>|z|    [0.025   0.975]\n",
      "-------------------------------------------------------------------\n",
      "intercept      -1.2040    0.3801  -3.1679  0.0015  -1.9489  -0.4591\n",
      "Monday         -0.1424    0.3804  -0.3742  0.7082  -0.8879   0.6032\n",
      "Tuesday        -0.1765    0.3804  -0.4640  0.6427  -0.9220   0.5690\n",
      "Wednesday      -0.2019    0.3804  -0.5307  0.5956  -0.9474   0.5437\n",
      "Thursday       -0.2232    0.3805  -0.5865  0.5575  -0.9690   0.5227\n",
      "Friday         -0.1074    0.3805  -0.2822  0.7778  -0.8531   0.6383\n",
      "==================================================================\n",
      "\n"
     ]
    }
   ],
   "source": [
    "logit_model=sm.Logit(data['NoShow'],data[['intercept','Monday','Tuesday','Wednesday','Thursday','Friday']])\n",
    "result=logit_model.fit()\n",
    "print(result.summary2())"
   ]
  },
  {
   "cell_type": "markdown",
   "metadata": {},
   "source": [
    "### 4) Can SMS-received predict No-show\n",
    "The next question is if an SMS is received, are there less No-showing Patients as they have a written message to remind them of the appointment. 29% of Patients who did show received an SMS, against 44% of patients who didn't show.\n",
    "\n",
    "When an SMS had been received, 16,7% of Patients didn't show against 27,57% of Patients who didn't receive an SMS. It's a very strange association because we could expect exactly the opposite. The histogram confirms this association."
   ]
  },
  {
   "cell_type": "code",
   "execution_count": 39,
   "metadata": {},
   "outputs": [
    {
     "data": {
      "text/plain": [
       "29.133411935425357"
      ]
     },
     "execution_count": 39,
     "metadata": {},
     "output_type": "execute_result"
    }
   ],
   "source": [
    "data.SMS_received[did_show].mean()*100"
   ]
  },
  {
   "cell_type": "code",
   "execution_count": 40,
   "metadata": {
    "scrolled": true
   },
   "outputs": [
    {
     "data": {
      "text/plain": [
       "43.83708947533492"
      ]
     },
     "execution_count": 40,
     "metadata": {},
     "output_type": "execute_result"
    }
   ],
   "source": [
    "data.SMS_received[didnt_show].mean()*100"
   ]
  },
  {
   "cell_type": "code",
   "execution_count": 41,
   "metadata": {
    "scrolled": true
   },
   "outputs": [
    {
     "data": {
      "text/plain": [
       "SMS_received\n",
       "0    16.703311\n",
       "1    27.574545\n",
       "Name: NoShow, dtype: float64"
      ]
     },
     "execution_count": 41,
     "metadata": {},
     "output_type": "execute_result"
    }
   ],
   "source": [
    "data.groupby('SMS_received').NoShow.mean()*100"
   ]
  },
  {
   "cell_type": "markdown",
   "metadata": {},
   "source": [
    "The dashboard below explains the difference between No SMS received and 1 SMS received. Effectively, it shows that there are many more values \"didnt show\"."
   ]
  },
  {
   "cell_type": "code",
   "execution_count": 42,
   "metadata": {},
   "outputs": [
    {
     "data": {
      "text/plain": [
       "Text(0.5, 1.0, \"Percentage of did show and didn't show if a SMS has been received or not\")"
      ]
     },
     "execution_count": 42,
     "metadata": {},
     "output_type": "execute_result"
    },
    {
     "data": {
      "image/png": "[encoded data removed]",
      "text/plain": [
       "<Figure size 432x288 with 1 Axes>"
      ]
     },
     "metadata": {
      "needs_background": "light"
     },
     "output_type": "display_data"
    }
   ],
   "source": [
    "data.SMS_received[did_show].hist(alpha=0.5,bins=20,label='did show',color='g')\n",
    "data.SMS_received[didnt_show].hist(alpha=0.5,bins=20,label='didnt show')\n",
    "plt.legend()\n",
    "plt.title(\"Percentage of did show and didn't show if a SMS has been received or not\")"
   ]
  },
  {
   "cell_type": "markdown",
   "metadata": {},
   "source": [
    "According to the P-Value, the association between No-Show and SMS Received is statistically significative."
   ]
  },
  {
   "cell_type": "code",
   "execution_count": 43,
   "metadata": {
    "scrolled": true
   },
   "outputs": [
    {
     "name": "stdout",
     "output_type": "stream",
     "text": [
      "Optimization terminated successfully.\n",
      "         Current function value: 0.495368\n",
      "         Iterations 5\n",
      "                          Results: Logit\n",
      "==================================================================\n",
      "Model:              Logit            Pseudo R-squared: 0.015      \n",
      "Dependent Variable: NoShow           AIC:              109507.1700\n",
      "Date:               2020-01-21 16:39 BIC:              109526.3960\n",
      "No. Observations:   110527           Log-Likelihood:   -54752.    \n",
      "Df Model:           1                LL-Null:          -55603.    \n",
      "Df Residuals:       110525           LLR p-value:      0.0000     \n",
      "Converged:          1.0000           Scale:            1.0000     \n",
      "No. Iterations:     5.0000                                        \n",
      "------------------------------------------------------------------\n",
      "                  Coef.  Std.Err.     z     P>|z|   [0.025  0.975]\n",
      "------------------------------------------------------------------\n",
      "intercept        -1.6068   0.0098 -164.1868 0.0000 -1.6260 -1.5876\n",
      "SMS_received      0.6411   0.0154   41.6555 0.0000  0.6110  0.6713\n",
      "==================================================================\n",
      "\n"
     ]
    }
   ],
   "source": [
    "logit_model=sm.Logit(data['NoShow'],data[['intercept','SMS_received']])\n",
    "result=logit_model.fit()\n",
    "print(result.summary2())"
   ]
  },
  {
   "cell_type": "markdown",
   "metadata": {},
   "source": [
    "### 5) Is long waiting, SMS received and No-Show interrelated?\n",
    "\n",
    "As it's less probable that people received an SMS if the Schedule Day was equal to the Appointment day, I wanted to see if this association was real. And it is a fact that people who haven't to wait a day have a low probability of receiving an SMS (1.1% against 42% between 2 and 9 days waiting, and 59,4% at least 10 days waiting)."
   ]
  },
  {
   "cell_type": "code",
   "execution_count": 44,
   "metadata": {},
   "outputs": [
    {
     "data": {
      "text/plain": [
       "Waiting_category\n",
       "No waiting day                1.157831\n",
       "1-9 waiting days             42.095571\n",
       "More than 10 waiting days    59.408135\n",
       "Name: SMS_received, dtype: float64"
      ]
     },
     "execution_count": 44,
     "metadata": {},
     "output_type": "execute_result"
    }
   ],
   "source": [
    "data.groupby('Waiting_category').SMS_received.mean()*100"
   ]
  },
  {
   "cell_type": "markdown",
   "metadata": {},
   "source": [
    "And there is a strange association between SMS received, long waiting and No-Show:\n",
    "\n",
    "1) No Waiting: an SMS received greatly improves the probability of not coming (28,5% against 4,9% when the Patients didn't get the SMS). Maybe we should also have gathered the content of the SMS or see in what context they have been sent.\n",
    "\n",
    "2) Low Waiting: an SMS received hasn't a lot of difference (less than 0.5%)\n",
    "\n",
    "3) High Waiting: an SMS received improves the showing up to 6.7% (29,6% of not showing when the Patients received an SMS against 36,3% when they received one)."
   ]
  },
  {
   "cell_type": "code",
   "execution_count": 45,
   "metadata": {
    "scrolled": true
   },
   "outputs": [
    {
     "data": {
      "text/plain": [
       "Waiting_category           SMS_received\n",
       "No waiting day             0                4.957871\n",
       "                           1               28.508772\n",
       "1-9 waiting days           0               25.934493\n",
       "                           1               25.566729\n",
       "More than 10 waiting days  0               36.334621\n",
       "                           1               29.578192\n",
       "Name: NoShow, dtype: float64"
      ]
     },
     "execution_count": 45,
     "metadata": {},
     "output_type": "execute_result"
    }
   ],
   "source": [
    "data.groupby(['Waiting_category','SMS_received']).NoShow.mean()*100"
   ]
  },
  {
   "cell_type": "markdown",
   "metadata": {},
   "source": [
    "In this dashboard, we see all the paradox:\n",
    "1) When there is no-day waiting, an SMS received increase greatly the probability that the Patient didn't show at the appointment.\n",
    "2) When there are between 1 and 9 waiting days, there isn't a great difference.\n",
    "3) When there are more than 10 waiting days, there is a slight improvement of people who didn't show when they received an SMS."
   ]
  },
  {
   "cell_type": "code",
   "execution_count": 46,
   "metadata": {
    "scrolled": true
   },
   "outputs": [
    {
     "data": {
      "text/plain": [
       "<matplotlib.axes._subplots.AxesSubplot at 0x25d208acb08>"
      ]
     },
     "execution_count": 46,
     "metadata": {},
     "output_type": "execute_result"
    },
    {
     "data": {
      "image/png": "[encoded data removed]",
      "text/plain": [
       "<Figure size 432x288 with 1 Axes>"
      ]
     },
     "metadata": {
      "needs_background": "light"
     },
     "output_type": "display_data"
    }
   ],
   "source": [
    "data.groupby([\"Waiting_category\",\"SMS_received\"]).NoShow.mean().plot(kind='bar',title='Waiting and SMS-Received to predict No Show')"
   ]
  },
  {
   "cell_type": "markdown",
   "metadata": {},
   "source": [
    "Every variable has aP-Value equal to 0 and is statistically associated to No-Show:"
   ]
  },
  {
   "cell_type": "code",
   "execution_count": 47,
   "metadata": {
    "scrolled": false
   },
   "outputs": [
    {
     "name": "stdout",
     "output_type": "stream",
     "text": [
      "Optimization terminated successfully.\n",
      "         Current function value: 0.455820\n",
      "         Iterations 7\n",
      "                          Results: Logit\n",
      "==================================================================\n",
      "Model:              Logit            Pseudo R-squared: 0.094      \n",
      "Dependent Variable: NoShow           AIC:              100768.7963\n",
      "Date:               2020-01-21 16:39 BIC:              100807.2484\n",
      "No. Observations:   110527           Log-Likelihood:   -50380.    \n",
      "Df Model:           3                LL-Null:          -55603.    \n",
      "Df Residuals:       110523           LLR p-value:      0.0000     \n",
      "Converged:          1.0000           Scale:            1.0000     \n",
      "No. Iterations:     7.0000                                        \n",
      "------------------------------------------------------------------\n",
      "                  Coef.  Std.Err.     z     P>|z|   [0.025  0.975]\n",
      "------------------------------------------------------------------\n",
      "intercept        -2.8956   0.0226 -127.9379 0.0000 -2.9400 -2.8513\n",
      "1-9 days          1.8864   0.0261   72.2249 0.0000  1.8352  1.9376\n",
      "More than 9 days  2.2252   0.0276   80.6056 0.0000  2.1711  2.2793\n",
      "SMS_received     -0.1164   0.0169   -6.8964 0.0000 -0.1495 -0.0834\n",
      "==================================================================\n",
      "\n"
     ]
    }
   ],
   "source": [
    "logit_model=sm.Logit(data['NoShow'],data[['intercept','1-9 days','More than 9 days','SMS_received']])\n",
    "result=logit_model.fit()\n",
    "print(result.summary2())"
   ]
  },
  {
   "cell_type": "markdown",
   "metadata": {},
   "source": [
    "But the Pseudo R-Squared is pretty low: 0.094. I've tried by adding a new variable (0 day waiting and SMS received), but this new variable add only 0.3% to the explained variation."
   ]
  },
  {
   "cell_type": "code",
   "execution_count": 48,
   "metadata": {},
   "outputs": [],
   "source": [
    "data['SMS_No_waiting_day']=data['SMS_received']-3*data['1-9 days']-3*data['More than 9 days']\n",
    "data['SMS_No_waiting_day']=data['SMS_No_waiting_day'].replace({-2:\"No\",-3:\"No\",0:\"SMS_received_no_waiting_day\",1:\"No_SMS_received_Waiting_day\"})\n"
   ]
  },
  {
   "cell_type": "code",
   "execution_count": 49,
   "metadata": {},
   "outputs": [],
   "source": [
    "data[['No','SMS_received_NO_waiting_day','No_SMS_received_Waiting_day']]=pd.get_dummies(data['SMS_No_waiting_day'])"
   ]
  },
  {
   "cell_type": "code",
   "execution_count": 50,
   "metadata": {},
   "outputs": [
    {
     "name": "stdout",
     "output_type": "stream",
     "text": [
      "Optimization terminated successfully.\n",
      "         Current function value: 0.454501\n",
      "         Iterations 7\n",
      "                               Results: Logit\n",
      "=============================================================================\n",
      "Model:                   Logit               Pseudo R-squared:    0.097      \n",
      "Dependent Variable:      NoShow              AIC:                 100479.3597\n",
      "Date:                    2020-01-21 16:39    BIC:                 100527.4248\n",
      "No. Observations:        110527              Log-Likelihood:      -50235.    \n",
      "Df Model:                4                   LL-Null:             -55603.    \n",
      "Df Residuals:            110522              LLR p-value:         0.0000     \n",
      "Converged:               1.0000              Scale:               1.0000     \n",
      "No. Iterations:          7.0000                                              \n",
      "-----------------------------------------------------------------------------\n",
      "                             Coef.  Std.Err.     z     P>|z|   [0.025  0.975]\n",
      "-----------------------------------------------------------------------------\n",
      "intercept                   -2.9533   0.0233 -126.4884 0.0000 -2.9991 -2.9076\n",
      "1-9 days                     1.9567   0.0268   73.0747 0.0000  1.9043  2.0092\n",
      "More than 9 days             2.3010   0.0283   81.4390 0.0000  2.2457  2.3564\n",
      "SMS_received                -0.1476   0.0169   -8.7117 0.0000 -0.1808 -0.1144\n",
      "SMS_received_NO_waiting_day  2.1816   0.1077   20.2625 0.0000  1.9706  2.3926\n",
      "=============================================================================\n",
      "\n"
     ]
    }
   ],
   "source": [
    "logit_model=sm.Logit(data['NoShow'],data[['intercept','1-9 days','More than 9 days','SMS_received','SMS_received_NO_waiting_day']])\n",
    "result=logit_model.fit()\n",
    "print(result.summary2())"
   ]
  },
  {
   "cell_type": "markdown",
   "metadata": {},
   "source": [
    "### 6) Can Scholarship predict No-show?\n",
    "I assumed that Scholarship would lessen the probability of not showing because the Patients received government aid. But it was the opposite association. For low and high waiting, it was an improvement of respectively 6.6% and 7.2% of not showing at the appointment if the Patients received a governmental aid. It might be useful to see the association per revenue before making any conclusion"
   ]
  },
  {
   "cell_type": "code",
   "execution_count": 51,
   "metadata": {},
   "outputs": [
    {
     "data": {
      "text/plain": [
       "Scholarship\n",
       "0    19.807156\n",
       "1    23.736304\n",
       "Name: NoShow, dtype: float64"
      ]
     },
     "execution_count": 51,
     "metadata": {},
     "output_type": "execute_result"
    }
   ],
   "source": [
    "data.groupby('Scholarship').NoShow.mean()*100"
   ]
  },
  {
   "cell_type": "code",
   "execution_count": 52,
   "metadata": {},
   "outputs": [
    {
     "data": {
      "text/plain": [
       "Waiting_category           Scholarship\n",
       "No waiting day             0               5.068337\n",
       "                           1               6.566604\n",
       "1-9 waiting days           0              25.198194\n",
       "                           1              31.737493\n",
       "More than 10 waiting days  0              31.611976\n",
       "                           1              38.832928\n",
       "Name: NoShow, dtype: float64"
      ]
     },
     "execution_count": 52,
     "metadata": {},
     "output_type": "execute_result"
    }
   ],
   "source": [
    "data.groupby(['Waiting_category','Scholarship']).NoShow.mean()*100"
   ]
  },
  {
   "cell_type": "markdown",
   "metadata": {},
   "source": [
    "We see all the differences in this dashboard. If we take No-day waiting, 0-9 waiting day or more than 10 waiting days, there are a little more of the probability of No-Show if the patient received Scholarship."
   ]
  },
  {
   "cell_type": "code",
   "execution_count": 53,
   "metadata": {
    "scrolled": false
   },
   "outputs": [
    {
     "data": {
      "text/plain": [
       "<matplotlib.axes._subplots.AxesSubplot at 0x25d1f2ed588>"
      ]
     },
     "execution_count": 53,
     "metadata": {},
     "output_type": "execute_result"
    },
    {
     "data": {
      "image/png": "[encoded data removed]",
      "text/plain": [
       "<Figure size 432x288 with 1 Axes>"
      ]
     },
     "metadata": {
      "needs_background": "light"
     },
     "output_type": "display_data"
    }
   ],
   "source": [
    "data.groupby([\"Waiting_category\",\"Scholarship\"]).NoShow.mean().plot(kind='bar',title=\"Waiting and Scholarship to predict No Show\")"
   ]
  },
  {
   "cell_type": "markdown",
   "metadata": {},
   "source": [
    "According to the P-Value, Scholarship and Waiting days are all statistically associated to No-Show in medical appointments"
   ]
  },
  {
   "cell_type": "code",
   "execution_count": 54,
   "metadata": {},
   "outputs": [
    {
     "name": "stdout",
     "output_type": "stream",
     "text": [
      "Optimization terminated successfully.\n",
      "         Current function value: 0.455363\n",
      "         Iterations 7\n",
      "                          Results: Logit\n",
      "==================================================================\n",
      "Model:              Logit            Pseudo R-squared: 0.095      \n",
      "Dependent Variable: NoShow           AIC:              100667.7799\n",
      "Date:               2020-01-21 16:39 BIC:              100706.2320\n",
      "No. Observations:   110527           Log-Likelihood:   -50330.    \n",
      "Df Model:           3                LL-Null:          -55603.    \n",
      "Df Residuals:       110523           LLR p-value:      0.0000     \n",
      "Converged:          1.0000           Scale:            1.0000     \n",
      "No. Iterations:     7.0000                                        \n",
      "------------------------------------------------------------------\n",
      "                  Coef.  Std.Err.     z     P>|z|   [0.025  0.975]\n",
      "------------------------------------------------------------------\n",
      "intercept        -2.9354   0.0229 -128.1472 0.0000 -2.9803 -2.8905\n",
      "1-9 days          1.8482   0.0253   73.1345 0.0000  1.7987  1.8977\n",
      "More than 9 days  2.1641   0.0259   83.6495 0.0000  2.1134  2.2148\n",
      "Scholarship       0.3134   0.0253   12.3959 0.0000  0.2638  0.3629\n",
      "==================================================================\n",
      "\n"
     ]
    }
   ],
   "source": [
    "logit_model=sm.Logit(data['NoShow'],data[['intercept','1-9 days','More than 9 days','Scholarship']])\n",
    "result=logit_model.fit()\n",
    "print(result.summary2())"
   ]
  },
  {
   "cell_type": "markdown",
   "metadata": {},
   "source": [
    "### 7) Can Hypertension predict No-show?\n",
    "Patients with Hypertension might go to the appointment as they have got a strong disease, and they might have more important needs.\n",
    "In the data, Hypertension reduces from 3.6% to Patients who don't come to the appointment. But if we segment the data by No/low/high waiting, we can see that the association is stronger (about 6%).\n"
   ]
  },
  {
   "cell_type": "code",
   "execution_count": 55,
   "metadata": {
    "scrolled": true
   },
   "outputs": [
    {
     "data": {
      "text/plain": [
       "Hipertension\n",
       "0    20.903681\n",
       "1    17.301959\n",
       "Name: NoShow, dtype: float64"
      ]
     },
     "execution_count": 55,
     "metadata": {},
     "output_type": "execute_result"
    }
   ],
   "source": [
    "data.groupby('Hipertension').NoShow.mean()*100"
   ]
  },
  {
   "cell_type": "code",
   "execution_count": 56,
   "metadata": {
    "scrolled": true
   },
   "outputs": [
    {
     "data": {
      "text/plain": [
       "Waiting_category           Hipertension\n",
       "No waiting day             0                5.491596\n",
       "                           1                4.001160\n",
       "1-9 waiting days           0               27.064917\n",
       "                           1               21.450214\n",
       "More than 10 waiting days  0               33.488895\n",
       "                           1               27.063016\n",
       "Name: NoShow, dtype: float64"
      ]
     },
     "execution_count": 56,
     "metadata": {},
     "output_type": "execute_result"
    }
   ],
   "source": [
    "data.groupby(['Waiting_category','Hipertension']).NoShow.mean()*100"
   ]
  },
  {
   "cell_type": "markdown",
   "metadata": {},
   "source": [
    "We see this difference in this dashboard. If we compare No-day waiting, between 1 and 9 days waiting and more than 10 days waiting, there is more probability of No-Show if the patient has Hypertension."
   ]
  },
  {
   "cell_type": "code",
   "execution_count": 57,
   "metadata": {
    "scrolled": true
   },
   "outputs": [
    {
     "data": {
      "text/plain": [
       "<matplotlib.axes._subplots.AxesSubplot at 0x25d208fca48>"
      ]
     },
     "execution_count": 57,
     "metadata": {},
     "output_type": "execute_result"
    },
    {
     "data": {
      "image/png": "[encoded data removed]",
      "text/plain": [
       "<Figure size 432x288 with 1 Axes>"
      ]
     },
     "metadata": {
      "needs_background": "light"
     },
     "output_type": "display_data"
    }
   ],
   "source": [
    "data.groupby([\"Waiting_category\",\"Hipertension\"]).NoShow.mean().plot(kind='bar', title=\"Waiting and Hypertension to predict No Show\")"
   ]
  },
  {
   "cell_type": "markdown",
   "metadata": {},
   "source": [
    "According to the P-Value, Hipertension and Waiting Days are statistically associated to No-Show in medical appointments"
   ]
  },
  {
   "cell_type": "code",
   "execution_count": 58,
   "metadata": {},
   "outputs": [
    {
     "name": "stdout",
     "output_type": "stream",
     "text": [
      "Optimization terminated successfully.\n",
      "         Current function value: 0.454965\n",
      "         Iterations 7\n",
      "                          Results: Logit\n",
      "==================================================================\n",
      "Model:              Logit            Pseudo R-squared: 0.096      \n",
      "Dependent Variable: NoShow           AIC:              100579.8432\n",
      "Date:               2020-01-21 16:39 BIC:              100618.2953\n",
      "No. Observations:   110527           Log-Likelihood:   -50286.    \n",
      "Df Model:           3                LL-Null:          -55603.    \n",
      "Df Residuals:       110523           LLR p-value:      0.0000     \n",
      "Converged:          1.0000           Scale:            1.0000     \n",
      "No. Iterations:     7.0000                                        \n",
      "------------------------------------------------------------------\n",
      "                  Coef.  Std.Err.     z     P>|z|   [0.025  0.975]\n",
      "------------------------------------------------------------------\n",
      "intercept        -2.8487   0.0228 -124.8634 0.0000 -2.8934 -2.8040\n",
      "1-9 days          1.8578   0.0253   73.4595 0.0000  1.8082  1.9073\n",
      "More than 9 days  2.1631   0.0259   83.6238 0.0000  2.1124  2.2138\n",
      "Hipertension     -0.3086   0.0204  -15.1093 0.0000 -0.3487 -0.2686\n",
      "==================================================================\n",
      "\n"
     ]
    }
   ],
   "source": [
    "logit_model=sm.Logit(data['NoShow'],data[['intercept','1-9 days','More than 9 days','Hipertension']])\n",
    "result=logit_model.fit()\n",
    "print(result.summary2())"
   ]
  },
  {
   "cell_type": "markdown",
   "metadata": {},
   "source": [
    "###  8) Can Gender be associated with NoShow\n",
    "I wasn't sure if there could be a difference of No-Show, so I took the means to discover there wasn't any difference (less than 0.1%)."
   ]
  },
  {
   "cell_type": "code",
   "execution_count": 59,
   "metadata": {
    "scrolled": true
   },
   "outputs": [
    {
     "data": {
      "text/plain": [
       "Gender\n",
       "F    20.314588\n",
       "M    19.967948\n",
       "Name: NoShow, dtype: float64"
      ]
     },
     "execution_count": 59,
     "metadata": {},
     "output_type": "execute_result"
    }
   ],
   "source": [
    "data.groupby('Gender').NoShow.mean()*100"
   ]
  },
  {
   "cell_type": "code",
   "execution_count": 60,
   "metadata": {},
   "outputs": [
    {
     "data": {
      "text/plain": [
       "Waiting_category           Gender\n",
       "No waiting day             F          4.431083\n",
       "                           M          6.516125\n",
       "1-9 waiting days           F         25.810636\n",
       "                           M         25.718554\n",
       "More than 10 waiting days  F         32.089288\n",
       "                           M         32.801679\n",
       "Name: NoShow, dtype: float64"
      ]
     },
     "execution_count": 60,
     "metadata": {},
     "output_type": "execute_result"
    }
   ],
   "source": [
    "data.groupby(['Waiting_category','Gender']).NoShow.mean()*100"
   ]
  },
  {
   "cell_type": "code",
   "execution_count": 61,
   "metadata": {},
   "outputs": [],
   "source": [
    "data[['Women','Men']]=pd.get_dummies(data['Gender'])"
   ]
  },
  {
   "cell_type": "markdown",
   "metadata": {},
   "source": [
    "According to the P-Value, gender and waiting days are statistically associated to No-Show medical appointments"
   ]
  },
  {
   "cell_type": "code",
   "execution_count": 62,
   "metadata": {},
   "outputs": [
    {
     "name": "stdout",
     "output_type": "stream",
     "text": [
      "Optimization terminated successfully.\n",
      "         Current function value: 0.455969\n",
      "         Iterations 7\n",
      "                          Results: Logit\n",
      "==================================================================\n",
      "Model:              Logit            Pseudo R-squared: 0.094      \n",
      "Dependent Variable: NoShow           AIC:              100801.8167\n",
      "Date:               2020-01-21 16:39 BIC:              100840.2688\n",
      "No. Observations:   110527           Log-Likelihood:   -50397.    \n",
      "Df Model:           3                LL-Null:          -55603.    \n",
      "Df Residuals:       110523           LLR p-value:      0.0000     \n",
      "Converged:          1.0000           Scale:            1.0000     \n",
      "No. Iterations:     7.0000                                        \n",
      "-------------------------------------------------------------------\n",
      "               Coef.   Std.Err.     z      P>|z|    [0.025   0.975]\n",
      "-------------------------------------------------------------------\n",
      "intercept     -0.7597    0.0136  -55.7973  0.0000  -0.7864  -0.7330\n",
      "0 day         -2.1618    0.0259  -83.5579  0.0000  -2.2125  -2.1111\n",
      "1-9 days      -0.3192    0.0168  -19.0405  0.0000  -0.3520  -0.2863\n",
      "Men            0.0630    0.0165    3.8272  0.0001   0.0307   0.0953\n",
      "==================================================================\n",
      "\n"
     ]
    }
   ],
   "source": [
    "logit_model=sm.Logit(data['NoShow'],data[['intercept','0 day','1-9 days','Men']])\n",
    "result=logit_model.fit()\n",
    "print(result.summary2())"
   ]
  },
  {
   "cell_type": "markdown",
   "metadata": {},
   "source": [
    "###  9) Can Age predict No-show: \n",
    "There wasn't any clear difference when we took the age of Patients who did show up and the Patients who didn't show up. The cumulative histogram wasn't clear either."
   ]
  },
  {
   "cell_type": "code",
   "execution_count": 63,
   "metadata": {},
   "outputs": [
    {
     "data": {
      "text/plain": [
       "count    88208.000000\n",
       "mean        37.790064\n",
       "std         23.338878\n",
       "min         -1.000000\n",
       "25%         18.000000\n",
       "50%         38.000000\n",
       "75%         56.000000\n",
       "max        115.000000\n",
       "Name: Age, dtype: float64"
      ]
     },
     "execution_count": 63,
     "metadata": {},
     "output_type": "execute_result"
    }
   ],
   "source": [
    "data.Age[did_show].describe()"
   ]
  },
  {
   "cell_type": "markdown",
   "metadata": {},
   "source": [
    "We see in this diagram that there are always more did show than didn't show for every value of Age and it's some similarity between “did show” and “didn't show” for every value of Age."
   ]
  },
  {
   "cell_type": "code",
   "execution_count": 64,
   "metadata": {
    "scrolled": true
   },
   "outputs": [
    {
     "data": {
      "text/plain": [
       "Text(0.5, 1.0, \"Distribution of did show and didn't show per age\")"
      ]
     },
     "execution_count": 64,
     "metadata": {},
     "output_type": "execute_result"
    },
    {
     "data": {
      "image/png": "[encoded data removed]",
      "text/plain": [
       "<Figure size 432x288 with 1 Axes>"
      ]
     },
     "metadata": {
      "needs_background": "light"
     },
     "output_type": "display_data"
    }
   ],
   "source": [
    "data.Age[did_show].hist(alpha=0.5,bins=20,label='did show',color='b')\n",
    "data.Age[didnt_show].hist(alpha=0.5,bins=20,label='didnt show',color='y')\n",
    "plt.legend()\n",
    "plt.title(\"Distribution of did show and didn't show per age\")"
   ]
  },
  {
   "cell_type": "markdown",
   "metadata": {},
   "source": [
    "So I cut the ages first to get the 0-10 and the 11-20 categories, then I got each 20 years segment into the age."
   ]
  },
  {
   "cell_type": "code",
   "execution_count": 65,
   "metadata": {},
   "outputs": [
    {
     "data": {
      "text/html": [
       "<div>\n",
       "<style scoped>\n",
       "    .dataframe tbody tr th:only-of-type {\n",
       "        vertical-align: middle;\n",
       "    }\n",
       "\n",
       "    .dataframe tbody tr th {\n",
       "        vertical-align: top;\n",
       "    }\n",
       "\n",
       "    .dataframe thead th {\n",
       "        text-align: right;\n",
       "    }\n",
       "</style>\n",
       "<table border=\"1\" class=\"dataframe\">\n",
       "  <thead>\n",
       "    <tr style=\"text-align: right;\">\n",
       "      <th></th>\n",
       "      <th>Gender</th>\n",
       "      <th>ScheduledDay</th>\n",
       "      <th>AppointmentDay</th>\n",
       "      <th>Age</th>\n",
       "      <th>Scholarship</th>\n",
       "      <th>Hipertension</th>\n",
       "      <th>Diabetes</th>\n",
       "      <th>SMS_received</th>\n",
       "      <th>NoShow</th>\n",
       "      <th>Schedule</th>\n",
       "      <th>...</th>\n",
       "      <th>Thursday</th>\n",
       "      <th>Tuesday</th>\n",
       "      <th>Wednesday</th>\n",
       "      <th>SMS_No_waiting_day</th>\n",
       "      <th>No</th>\n",
       "      <th>SMS_received_NO_waiting_day</th>\n",
       "      <th>No_SMS_received_Waiting_day</th>\n",
       "      <th>Women</th>\n",
       "      <th>Men</th>\n",
       "      <th>Age_segment</th>\n",
       "    </tr>\n",
       "  </thead>\n",
       "  <tbody>\n",
       "    <tr>\n",
       "      <th>28</th>\n",
       "      <td>M</td>\n",
       "      <td>2016-04-29T15:48:02Z</td>\n",
       "      <td>2016-04-29T00:00:00Z</td>\n",
       "      <td>51</td>\n",
       "      <td>0</td>\n",
       "      <td>0</td>\n",
       "      <td>0</td>\n",
       "      <td>0</td>\n",
       "      <td>False</td>\n",
       "      <td>2016-04-29</td>\n",
       "      <td>...</td>\n",
       "      <td>0</td>\n",
       "      <td>0</td>\n",
       "      <td>0</td>\n",
       "      <td>SMS_received_no_waiting_day</td>\n",
       "      <td>0</td>\n",
       "      <td>0</td>\n",
       "      <td>1</td>\n",
       "      <td>0</td>\n",
       "      <td>1</td>\n",
       "      <td>51-60 years old</td>\n",
       "    </tr>\n",
       "    <tr>\n",
       "      <th>98</th>\n",
       "      <td>F</td>\n",
       "      <td>2016-04-12T09:44:42Z</td>\n",
       "      <td>2016-04-29T00:00:00Z</td>\n",
       "      <td>51</td>\n",
       "      <td>0</td>\n",
       "      <td>0</td>\n",
       "      <td>0</td>\n",
       "      <td>1</td>\n",
       "      <td>False</td>\n",
       "      <td>2016-04-12</td>\n",
       "      <td>...</td>\n",
       "      <td>0</td>\n",
       "      <td>0</td>\n",
       "      <td>0</td>\n",
       "      <td>No</td>\n",
       "      <td>1</td>\n",
       "      <td>0</td>\n",
       "      <td>0</td>\n",
       "      <td>1</td>\n",
       "      <td>0</td>\n",
       "      <td>51-60 years old</td>\n",
       "    </tr>\n",
       "    <tr>\n",
       "      <th>105</th>\n",
       "      <td>M</td>\n",
       "      <td>2016-04-29T09:02:40Z</td>\n",
       "      <td>2016-04-29T00:00:00Z</td>\n",
       "      <td>51</td>\n",
       "      <td>0</td>\n",
       "      <td>1</td>\n",
       "      <td>0</td>\n",
       "      <td>0</td>\n",
       "      <td>False</td>\n",
       "      <td>2016-04-29</td>\n",
       "      <td>...</td>\n",
       "      <td>0</td>\n",
       "      <td>0</td>\n",
       "      <td>0</td>\n",
       "      <td>SMS_received_no_waiting_day</td>\n",
       "      <td>0</td>\n",
       "      <td>0</td>\n",
       "      <td>1</td>\n",
       "      <td>0</td>\n",
       "      <td>1</td>\n",
       "      <td>51-60 years old</td>\n",
       "    </tr>\n",
       "    <tr>\n",
       "      <th>269</th>\n",
       "      <td>F</td>\n",
       "      <td>2016-04-29T12:13:58Z</td>\n",
       "      <td>2016-04-29T00:00:00Z</td>\n",
       "      <td>51</td>\n",
       "      <td>0</td>\n",
       "      <td>0</td>\n",
       "      <td>0</td>\n",
       "      <td>0</td>\n",
       "      <td>False</td>\n",
       "      <td>2016-04-29</td>\n",
       "      <td>...</td>\n",
       "      <td>0</td>\n",
       "      <td>0</td>\n",
       "      <td>0</td>\n",
       "      <td>SMS_received_no_waiting_day</td>\n",
       "      <td>0</td>\n",
       "      <td>0</td>\n",
       "      <td>1</td>\n",
       "      <td>1</td>\n",
       "      <td>0</td>\n",
       "      <td>51-60 years old</td>\n",
       "    </tr>\n",
       "    <tr>\n",
       "      <th>272</th>\n",
       "      <td>F</td>\n",
       "      <td>2016-04-18T10:12:57Z</td>\n",
       "      <td>2016-04-29T00:00:00Z</td>\n",
       "      <td>51</td>\n",
       "      <td>0</td>\n",
       "      <td>1</td>\n",
       "      <td>0</td>\n",
       "      <td>1</td>\n",
       "      <td>True</td>\n",
       "      <td>2016-04-18</td>\n",
       "      <td>...</td>\n",
       "      <td>0</td>\n",
       "      <td>0</td>\n",
       "      <td>0</td>\n",
       "      <td>No</td>\n",
       "      <td>1</td>\n",
       "      <td>0</td>\n",
       "      <td>0</td>\n",
       "      <td>1</td>\n",
       "      <td>0</td>\n",
       "      <td>51-60 years old</td>\n",
       "    </tr>\n",
       "  </tbody>\n",
       "</table>\n",
       "<p>5 rows × 35 columns</p>\n",
       "</div>"
      ],
      "text/plain": [
       "    Gender          ScheduledDay        AppointmentDay  Age  Scholarship  \\\n",
       "28       M  2016-04-29T15:48:02Z  2016-04-29T00:00:00Z   51            0   \n",
       "98       F  2016-04-12T09:44:42Z  2016-04-29T00:00:00Z   51            0   \n",
       "105      M  2016-04-29T09:02:40Z  2016-04-29T00:00:00Z   51            0   \n",
       "269      F  2016-04-29T12:13:58Z  2016-04-29T00:00:00Z   51            0   \n",
       "272      F  2016-04-18T10:12:57Z  2016-04-29T00:00:00Z   51            0   \n",
       "\n",
       "     Hipertension  Diabetes  SMS_received  NoShow    Schedule  ... Thursday  \\\n",
       "28              0         0             0   False  2016-04-29  ...        0   \n",
       "98              0         0             1   False  2016-04-12  ...        0   \n",
       "105             1         0             0   False  2016-04-29  ...        0   \n",
       "269             0         0             0   False  2016-04-29  ...        0   \n",
       "272             1         0             1    True  2016-04-18  ...        0   \n",
       "\n",
       "    Tuesday Wednesday           SMS_No_waiting_day  No  \\\n",
       "28        0         0  SMS_received_no_waiting_day   0   \n",
       "98        0         0                           No   1   \n",
       "105       0         0  SMS_received_no_waiting_day   0   \n",
       "269       0         0  SMS_received_no_waiting_day   0   \n",
       "272       0         0                           No   1   \n",
       "\n",
       "    SMS_received_NO_waiting_day  No_SMS_received_Waiting_day  Women  Men  \\\n",
       "28                            0                            1      0    1   \n",
       "98                            0                            0      1    0   \n",
       "105                           0                            1      0    1   \n",
       "269                           0                            1      1    0   \n",
       "272                           0                            0      1    0   \n",
       "\n",
       "         Age_segment  \n",
       "28   51-60 years old  \n",
       "98   51-60 years old  \n",
       "105  51-60 years old  \n",
       "269  51-60 years old  \n",
       "272  51-60 years old  \n",
       "\n",
       "[5 rows x 35 columns]"
      ]
     },
     "execution_count": 65,
     "metadata": {},
     "output_type": "execute_result"
    }
   ],
   "source": [
    "bin_edges=[-1,10,20,30,40,50,60,70,80,150]\n",
    "bin_names=[\"0-10 years old\",\"11-20 year old\",\"21-30 years old\",\"31-40 years old\",\"41-50 years old\",\"51-60 years old\",\"61-70 years old\",\"71-80 years old\",\"After 80 years old\"]\n",
    "data['Age_segment'] = pd.cut(data['Age'], bin_edges, labels=bin_names)\n",
    "data[data['Age']==51].head()"
   ]
  },
  {
   "cell_type": "markdown",
   "metadata": {},
   "source": [
    "There is a big difference between \"11-20 years old\" and \"61-70 years old\" (25,2% of not showing up against 14,72% of not showing up)."
   ]
  },
  {
   "cell_type": "code",
   "execution_count": 66,
   "metadata": {
    "scrolled": true
   },
   "outputs": [
    {
     "data": {
      "text/plain": [
       "Age_segment\n",
       "0-10 years old        0.202037\n",
       "11-20 year old        0.252538\n",
       "21-30 years old       0.246245\n",
       "31-40 years old       0.214722\n",
       "41-50 years old       0.199029\n",
       "51-60 years old       0.173744\n",
       "61-70 years old       0.147288\n",
       "71-80 years old       0.155392\n",
       "After 80 years old    0.164446\n",
       "Name: NoShow, dtype: float64"
      ]
     },
     "execution_count": 66,
     "metadata": {},
     "output_type": "execute_result"
    }
   ],
   "source": [
    "data.groupby('Age_segment').NoShow.mean()"
   ]
  },
  {
   "cell_type": "markdown",
   "metadata": {},
   "source": [
    "In this dashboard, we see that 0-10 has less No-Show proportion than 11-20 years old. Maybe 0-10 years old children are accompanied by parents. After that, the percentage of No-Show is much higher, and it gets lower and lower until 70 years old when it gets more and more a little higher."
   ]
  },
  {
   "cell_type": "code",
   "execution_count": 67,
   "metadata": {},
   "outputs": [
    {
     "data": {
      "text/plain": [
       "<matplotlib.axes._subplots.AxesSubplot at 0x25d1f11eac8>"
      ]
     },
     "execution_count": 67,
     "metadata": {},
     "output_type": "execute_result"
    },
    {
     "data": {
      "image/png": "[encoded data removed]",
      "text/plain": [
       "<Figure size 432x288 with 1 Axes>"
      ]
     },
     "metadata": {
      "needs_background": "light"
     },
     "output_type": "display_data"
    }
   ],
   "source": [
    "data.groupby('Age_segment').NoShow.mean().plot(kind='bar', title=\"Comparison of No Show per Age (per 10 years old)\")"
   ]
  },
  {
   "cell_type": "code",
   "execution_count": 68,
   "metadata": {},
   "outputs": [],
   "source": [
    "data[['0-10 years-old','11-20 years old','21-30 years old','31-40 years old','41-50 years old','51-60 years old','61-70 years old','71-80 years old','After 80 years old']]=pd.get_dummies(data['Age_segment'])"
   ]
  },
  {
   "cell_type": "markdown",
   "metadata": {},
   "source": [
    "According to the P-Value, every age category is statistically different from 10 years old and under, except from 41-50 (maybe because the values are somewhat similar between 0-10 years old and 41-50 years old)."
   ]
  },
  {
   "cell_type": "code",
   "execution_count": 69,
   "metadata": {},
   "outputs": [
    {
     "name": "stdout",
     "output_type": "stream",
     "text": [
      "Optimization terminated successfully.\n",
      "         Current function value: 0.499522\n",
      "         Iterations 6\n",
      "                          Results: Logit\n",
      "===================================================================\n",
      "Model:               Logit            Pseudo R-squared: 0.007      \n",
      "Dependent Variable:  NoShow           AIC:              110439.3939\n",
      "Date:                2020-01-21 16:39 BIC:              110525.9110\n",
      "No. Observations:    110527           Log-Likelihood:   -55211.    \n",
      "Df Model:            8                LL-Null:          -55603.    \n",
      "Df Residuals:        110518           LLR p-value:      5.1921e-164\n",
      "Converged:           1.0000           Scale:            1.0000     \n",
      "No. Iterations:      6.0000                                        \n",
      "-------------------------------------------------------------------\n",
      "                    Coef.  Std.Err.    z     P>|z|   [0.025  0.975]\n",
      "-------------------------------------------------------------------\n",
      "intercept          -1.3737   0.0182 -75.5237 0.0000 -1.4093 -1.3380\n",
      "11-20 years old     0.2886   0.0271  10.6417 0.0000  0.2354  0.3417\n",
      "21-30 years old     0.2549   0.0269   9.4896 0.0000  0.2023  0.3076\n",
      "31-40 years old     0.0770   0.0269   2.8594 0.0042  0.0242  0.1298\n",
      "41-50 years old    -0.0187   0.0277  -0.6757 0.4993 -0.0729  0.0355\n",
      "51-60 years old    -0.1856   0.0278  -6.6660 0.0000 -0.2402 -0.1311\n",
      "61-70 years old    -0.3824   0.0323 -11.8426 0.0000 -0.4456 -0.3191\n",
      "71-80 years old    -0.3192   0.0408  -7.8293 0.0000 -0.3992 -0.2393\n",
      "After 80 years old -0.2518   0.0537  -4.6905 0.0000 -0.3571 -0.1466\n",
      "===================================================================\n",
      "\n"
     ]
    }
   ],
   "source": [
    "logit_model=sm.Logit(data['NoShow'],data[['intercept','11-20 years old','21-30 years old','31-40 years old','41-50 years old','51-60 years old','61-70 years old','71-80 years old','After 80 years old']])\n",
    "result=logit_model.fit()\n",
    "print(result.summary2())"
   ]
  },
  {
   "cell_type": "markdown",
   "metadata": {},
   "source": [
    "### General logistic regression"
   ]
  },
  {
   "cell_type": "markdown",
   "metadata": {},
   "source": [
    "I've tried to test very statistically significant variable in a big logistic regression. Every value was statistically different from control one, except from Hypertension and 41-50 years old (Hypertension might be an intermediate variable and 41-50 years old was already non statistically significant."
   ]
  },
  {
   "cell_type": "code",
   "execution_count": 70,
   "metadata": {
    "scrolled": false
   },
   "outputs": [
    {
     "name": "stdout",
     "output_type": "stream",
     "text": [
      "Optimization terminated successfully.\n",
      "         Current function value: 0.448916\n",
      "         Iterations 7\n",
      "                               Results: Logit\n",
      "============================================================================\n",
      "Model:                   Logit               Pseudo R-squared:    0.108     \n",
      "Dependent Variable:      NoShow              AIC:                 99266.6378\n",
      "Date:                    2020-01-21 16:39    BIC:                 99420.4461\n",
      "No. Observations:        110527              Log-Likelihood:      -49617.   \n",
      "Df Model:                15                  LL-Null:             -55603.   \n",
      "Df Residuals:            110511              LLR p-value:         0.0000    \n",
      "Converged:               1.0000              Scale:               1.0000    \n",
      "No. Iterations:          7.0000                                             \n",
      "----------------------------------------------------------------------------\n",
      "                             Coef.  Std.Err.    z     P>|z|   [0.025  0.975]\n",
      "----------------------------------------------------------------------------\n",
      "intercept                   -2.9564   0.0306 -96.4666 0.0000 -3.0165 -2.8964\n",
      "1-9 days                     2.0367   0.0270  75.3709 0.0000  1.9838  2.0897\n",
      "More than 9 days             2.3491   0.0284  82.6154 0.0000  2.2934  2.4049\n",
      "SMS_received                -0.1673   0.0171  -9.7811 0.0000 -0.2008 -0.1338\n",
      "SMS_received_NO_waiting_day  2.2831   0.1085  21.0418 0.0000  2.0704  2.4958\n",
      "Scholarship                  0.2273   0.0260   8.7572 0.0000  0.1764  0.2782\n",
      "Hipertension                 0.0207   0.0242   0.8549 0.3926 -0.0268  0.0682\n",
      "Men                          0.0696   0.0170   4.0820 0.0000  0.0362  0.1030\n",
      "11-20 years old              0.2765   0.0290   9.5343 0.0000  0.2196  0.3333\n",
      "21-30 years old              0.1766   0.0288   6.1237 0.0000  0.1201  0.2331\n",
      "31-40 years old             -0.0173   0.0288  -0.6015 0.5475 -0.0738  0.0391\n",
      "41-50 years old             -0.1339   0.0298  -4.4916 0.0000 -0.1924 -0.0755\n",
      "51-60 years old             -0.3432   0.0308 -11.1320 0.0000 -0.4037 -0.2828\n",
      "61-70 years old             -0.5676   0.0361 -15.7411 0.0000 -0.6382 -0.4969\n",
      "71-80 years old             -0.4990   0.0449 -11.1228 0.0000 -0.5869 -0.4110\n",
      "After 80 years old          -0.3999   0.0580  -6.8940 0.0000 -0.5136 -0.2862\n",
      "============================================================================\n",
      "\n"
     ]
    }
   ],
   "source": [
    "logit_model=sm.Logit(data['NoShow'],data[['intercept','1-9 days','More than 9 days','SMS_received','SMS_received_NO_waiting_day','Scholarship','Hipertension','Men','11-20 years old','21-30 years old','31-40 years old','41-50 years old','51-60 years old','61-70 years old','71-80 years old','After 80 years old']])\n",
    "result=logit_model.fit()\n",
    "print(result.summary2())"
   ]
  },
  {
   "cell_type": "markdown",
   "metadata": {},
   "source": [
    "## Conclusions\n",
    "I took my Pandas and Matplotlib codes from the Project Walkthrough, the Pandas and Matplotlib documentation, and the website Stack Overflow (https://stackoverflow.com). It was only coded documentation, so I didn’t refer to the provenance of my code.\n",
    "### Results\n",
    "I can conclude several things from the data: 1) One of the biggest differences was 0 waiting day from the rest: 5,2% of Not Showing against 25,8% for “1–9 days”, and 32,3% for “after 10 days. So more the patient has to wait, more there is a probability of not showing up.\n",
    "\n",
    "\n",
    "2) There isn’t any significative difference of No Show if we take different months or days of the week.\n",
    "\n",
    "\n",
    "3) There is a strange association of SMS-received: if an SMS is received when there is no waiting day, the probability of not showing improves from 5% to 28,5%. But we don’t know the content of the SMS itself.\n",
    "\n",
    "4) The SMS received variable impacts only when the number of waiting days are 10 or above (from 36,3% of not showing to 29,5% when an SMS is received).\n",
    "\n",
    "5) Patients who have Hypertension tend more to show up (more than 6% when there is one waiting day or more).\n",
    "\n",
    "6) There wasn’t a big Gender difference for showing up or not showing up (less than 0.6%)\n",
    "\n",
    "7) After 10 years old, there is a negative association between age and not showing up, which disappears after about 71 years old (which can be for a difficulty to move). 25,2% of Patients between 11–20 years old don’t show up against 14,7% aged from 61 to 70.\n",
    "### Limitations\n",
    "\n",
    "1) The biggest problem is we don’t know why Patients don’t show up, so we can’t make a strong conclusion about why there are these differences.\n",
    "\n",
    "2) The content of the SMS in the “SMS_received” is also missing.\n",
    "\n",
    "3) We don’t have any variables like “difficulty to move”,”urgency of the problem”,”income” and “distance”. These variables that could explain our findings.\n",
    "\n",
    "However, the discovered associations can clearly show some associations of who tends to show up and who don’t, and a beginning of explanation can be made from our data.\n",
    "\n",
    "Lots of reasons might explain why the logistic regression didn't give a good pseudo R-Square. I will test machine learning technics in the future.\n",
    "\n"
   ]
  },
  {
   "cell_type": "code",
   "execution_count": null,
   "metadata": {},
   "outputs": [],
   "source": []
  },
  {
   "cell_type": "code",
   "execution_count": null,
   "metadata": {},
   "outputs": [],
   "source": []
  }
 ],
 "metadata": {
  "kernelspec": {
   "display_name": "Python 3",
   "language": "python",
   "name": "python3"
  },
  "language_info": {
   "codemirror_mode": {
    "name": "ipython",
    "version": 3
   },
   "file_extension": ".py",
   "mimetype": "text/x-python",
   "name": "python",
   "nbconvert_exporter": "python",
   "pygments_lexer": "ipython3",
   "version": "3.7.5"
  }
 },
 "nbformat": 4,
 "nbformat_minor": 2
}
